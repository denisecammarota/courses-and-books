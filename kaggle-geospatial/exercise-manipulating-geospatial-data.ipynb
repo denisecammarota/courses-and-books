{
 "cells": [
  {
   "cell_type": "markdown",
   "id": "a04eddc0",
   "metadata": {
    "papermill": {
     "duration": 0.007826,
     "end_time": "2023-10-12T19:28:07.477092",
     "exception": false,
     "start_time": "2023-10-12T19:28:07.469266",
     "status": "completed"
    },
    "tags": []
   },
   "source": [
    "**This notebook is an exercise in the [Geospatial Analysis](https://www.kaggle.com/learn/geospatial-analysis) course.  You can reference the tutorial at [this link](https://www.kaggle.com/alexisbcook/manipulating-geospatial-data).**\n",
    "\n",
    "---\n"
   ]
  },
  {
   "cell_type": "markdown",
   "id": "333b41e6",
   "metadata": {
    "papermill": {
     "duration": 0.007428,
     "end_time": "2023-10-12T19:28:07.491706",
     "exception": false,
     "start_time": "2023-10-12T19:28:07.484278",
     "status": "completed"
    },
    "tags": []
   },
   "source": [
    "# Introduction\n",
    "\n",
    "You are a Starbucks big data analyst ([that’s a real job!](https://www.forbes.com/sites/bernardmarr/2018/05/28/starbucks-using-big-data-analytics-and-artificial-intelligence-to-boost-performance/#130c7d765cdc)) looking to find the next store into a [Starbucks Reserve Roastery](https://www.businessinsider.com/starbucks-reserve-roastery-compared-regular-starbucks-2018-12#also-on-the-first-floor-was-the-main-coffee-bar-five-hourglass-like-units-hold-the-freshly-roasted-coffee-beans-that-are-used-in-each-order-the-selection-rotates-seasonally-5).  These roasteries are much larger than a typical Starbucks store and have several additional features, including various food and wine options, along with upscale lounge areas.  You'll investigate the demographics of various counties in the state of California, to determine potentially suitable locations.\n",
    "\n",
    "<center>\n",
    "<img src=\"https://storage.googleapis.com/kaggle-media/learn/images/BIyE6kR.png\" width=\"450\"><br/><br/>\n",
    "</center>\n",
    "\n",
    "Before you get started, run the code cell below to set everything up."
   ]
  },
  {
   "cell_type": "code",
   "execution_count": 1,
   "id": "994ea1ba",
   "metadata": {
    "execution": {
     "iopub.execute_input": "2023-10-12T19:28:07.507734Z",
     "iopub.status.busy": "2023-10-12T19:28:07.507089Z",
     "iopub.status.idle": "2023-10-12T19:28:10.532903Z",
     "shell.execute_reply": "2023-10-12T19:28:10.531914Z"
    },
    "papermill": {
     "duration": 3.036637,
     "end_time": "2023-10-12T19:28:10.535384",
     "exception": false,
     "start_time": "2023-10-12T19:28:07.498747",
     "status": "completed"
    },
    "tags": []
   },
   "outputs": [],
   "source": [
    "import math\n",
    "import pandas as pd\n",
    "import geopandas as gpd\n",
    "#from geopy.geocoders import Nominatim            # What you'd normally run\n",
    "from learntools.geospatial.tools import Nominatim # Just for this exercise\n",
    "\n",
    "import folium \n",
    "from folium import Marker\n",
    "from folium.plugins import MarkerCluster\n",
    "\n",
    "from learntools.core import binder\n",
    "binder.bind(globals())\n",
    "from learntools.geospatial.ex4 import *"
   ]
  },
  {
   "cell_type": "markdown",
   "id": "6a2f10c2",
   "metadata": {
    "papermill": {
     "duration": 0.006593,
     "end_time": "2023-10-12T19:28:10.549131",
     "exception": false,
     "start_time": "2023-10-12T19:28:10.542538",
     "status": "completed"
    },
    "tags": []
   },
   "source": [
    "You'll use the `embed_map()` function from the previous exercise to visualize your maps."
   ]
  },
  {
   "cell_type": "code",
   "execution_count": 2,
   "id": "ae0043a6",
   "metadata": {
    "execution": {
     "iopub.execute_input": "2023-10-12T19:28:10.564633Z",
     "iopub.status.busy": "2023-10-12T19:28:10.564221Z",
     "iopub.status.idle": "2023-10-12T19:28:10.569581Z",
     "shell.execute_reply": "2023-10-12T19:28:10.568289Z"
    },
    "papermill": {
     "duration": 0.015383,
     "end_time": "2023-10-12T19:28:10.571486",
     "exception": false,
     "start_time": "2023-10-12T19:28:10.556103",
     "status": "completed"
    },
    "tags": []
   },
   "outputs": [],
   "source": [
    "def embed_map(m, file_name):\n",
    "    from IPython.display import IFrame\n",
    "    m.save(file_name)\n",
    "    return IFrame(file_name, width='100%', height='500px')"
   ]
  },
  {
   "cell_type": "markdown",
   "id": "d0e109e1",
   "metadata": {
    "papermill": {
     "duration": 0.006492,
     "end_time": "2023-10-12T19:28:10.584919",
     "exception": false,
     "start_time": "2023-10-12T19:28:10.578427",
     "status": "completed"
    },
    "tags": []
   },
   "source": [
    "# Exercises\n",
    "\n",
    "### 1) Geocode the missing locations.\n",
    "\n",
    "Run the next code cell to create a DataFrame `starbucks` containing Starbucks locations in the state of California."
   ]
  },
  {
   "cell_type": "code",
   "execution_count": 3,
   "id": "cb650f14",
   "metadata": {
    "execution": {
     "iopub.execute_input": "2023-10-12T19:28:10.600130Z",
     "iopub.status.busy": "2023-10-12T19:28:10.599764Z",
     "iopub.status.idle": "2023-10-12T19:28:10.633024Z",
     "shell.execute_reply": "2023-10-12T19:28:10.631635Z"
    },
    "papermill": {
     "duration": 0.043713,
     "end_time": "2023-10-12T19:28:10.635558",
     "exception": false,
     "start_time": "2023-10-12T19:28:10.591845",
     "status": "completed"
    },
    "tags": []
   },
   "outputs": [
    {
     "data": {
      "text/html": [
       "<div>\n",
       "<style scoped>\n",
       "    .dataframe tbody tr th:only-of-type {\n",
       "        vertical-align: middle;\n",
       "    }\n",
       "\n",
       "    .dataframe tbody tr th {\n",
       "        vertical-align: top;\n",
       "    }\n",
       "\n",
       "    .dataframe thead th {\n",
       "        text-align: right;\n",
       "    }\n",
       "</style>\n",
       "<table border=\"1\" class=\"dataframe\">\n",
       "  <thead>\n",
       "    <tr style=\"text-align: right;\">\n",
       "      <th></th>\n",
       "      <th>Store Number</th>\n",
       "      <th>Store Name</th>\n",
       "      <th>Address</th>\n",
       "      <th>City</th>\n",
       "      <th>Longitude</th>\n",
       "      <th>Latitude</th>\n",
       "    </tr>\n",
       "  </thead>\n",
       "  <tbody>\n",
       "    <tr>\n",
       "      <th>0</th>\n",
       "      <td>10429-100710</td>\n",
       "      <td>Palmdale &amp; Hwy 395</td>\n",
       "      <td>14136 US Hwy 395 Adelanto CA</td>\n",
       "      <td>Adelanto</td>\n",
       "      <td>-117.40</td>\n",
       "      <td>34.51</td>\n",
       "    </tr>\n",
       "    <tr>\n",
       "      <th>1</th>\n",
       "      <td>635-352</td>\n",
       "      <td>Kanan &amp; Thousand Oaks</td>\n",
       "      <td>5827 Kanan Road Agoura CA</td>\n",
       "      <td>Agoura</td>\n",
       "      <td>-118.76</td>\n",
       "      <td>34.16</td>\n",
       "    </tr>\n",
       "    <tr>\n",
       "      <th>2</th>\n",
       "      <td>74510-27669</td>\n",
       "      <td>Vons-Agoura Hills #2001</td>\n",
       "      <td>5671 Kanan Rd. Agoura Hills CA</td>\n",
       "      <td>Agoura Hills</td>\n",
       "      <td>-118.76</td>\n",
       "      <td>34.15</td>\n",
       "    </tr>\n",
       "    <tr>\n",
       "      <th>3</th>\n",
       "      <td>29839-255026</td>\n",
       "      <td>Target Anaheim T-0677</td>\n",
       "      <td>8148 E SANTA ANA CANYON ROAD AHAHEIM CA</td>\n",
       "      <td>AHAHEIM</td>\n",
       "      <td>-117.75</td>\n",
       "      <td>33.87</td>\n",
       "    </tr>\n",
       "    <tr>\n",
       "      <th>4</th>\n",
       "      <td>23463-230284</td>\n",
       "      <td>Safeway - Alameda 3281</td>\n",
       "      <td>2600 5th Street Alameda CA</td>\n",
       "      <td>Alameda</td>\n",
       "      <td>-122.28</td>\n",
       "      <td>37.79</td>\n",
       "    </tr>\n",
       "  </tbody>\n",
       "</table>\n",
       "</div>"
      ],
      "text/plain": [
       "   Store Number               Store Name  \\\n",
       "0  10429-100710       Palmdale & Hwy 395   \n",
       "1       635-352    Kanan & Thousand Oaks   \n",
       "2   74510-27669  Vons-Agoura Hills #2001   \n",
       "3  29839-255026    Target Anaheim T-0677   \n",
       "4  23463-230284   Safeway - Alameda 3281   \n",
       "\n",
       "                                   Address          City  Longitude  Latitude  \n",
       "0             14136 US Hwy 395 Adelanto CA      Adelanto    -117.40     34.51  \n",
       "1                5827 Kanan Road Agoura CA        Agoura    -118.76     34.16  \n",
       "2           5671 Kanan Rd. Agoura Hills CA  Agoura Hills    -118.76     34.15  \n",
       "3  8148 E SANTA ANA CANYON ROAD AHAHEIM CA       AHAHEIM    -117.75     33.87  \n",
       "4               2600 5th Street Alameda CA       Alameda    -122.28     37.79  "
      ]
     },
     "execution_count": 3,
     "metadata": {},
     "output_type": "execute_result"
    }
   ],
   "source": [
    "# Load and preview Starbucks locations in California\n",
    "starbucks = pd.read_csv(\"../input/geospatial-learn-course-data/starbucks_locations.csv\")\n",
    "starbucks.head()"
   ]
  },
  {
   "cell_type": "markdown",
   "id": "36b019fc",
   "metadata": {
    "papermill": {
     "duration": 0.006901,
     "end_time": "2023-10-12T19:28:10.649933",
     "exception": false,
     "start_time": "2023-10-12T19:28:10.643032",
     "status": "completed"
    },
    "tags": []
   },
   "source": [
    "Most of the stores have known (latitude, longitude) locations.  But, all of the locations in the city of Berkeley are missing."
   ]
  },
  {
   "cell_type": "code",
   "execution_count": 4,
   "id": "3241fcdc",
   "metadata": {
    "execution": {
     "iopub.execute_input": "2023-10-12T19:28:10.665837Z",
     "iopub.status.busy": "2023-10-12T19:28:10.665467Z",
     "iopub.status.idle": "2023-10-12T19:28:10.681746Z",
     "shell.execute_reply": "2023-10-12T19:28:10.680456Z"
    },
    "papermill": {
     "duration": 0.02779,
     "end_time": "2023-10-12T19:28:10.684817",
     "exception": false,
     "start_time": "2023-10-12T19:28:10.657027",
     "status": "completed"
    },
    "tags": []
   },
   "outputs": [
    {
     "name": "stdout",
     "output_type": "stream",
     "text": [
      "Store Number    0\n",
      "Store Name      0\n",
      "Address         0\n",
      "City            0\n",
      "Longitude       5\n",
      "Latitude        5\n",
      "dtype: int64\n"
     ]
    },
    {
     "data": {
      "text/html": [
       "<div>\n",
       "<style scoped>\n",
       "    .dataframe tbody tr th:only-of-type {\n",
       "        vertical-align: middle;\n",
       "    }\n",
       "\n",
       "    .dataframe tbody tr th {\n",
       "        vertical-align: top;\n",
       "    }\n",
       "\n",
       "    .dataframe thead th {\n",
       "        text-align: right;\n",
       "    }\n",
       "</style>\n",
       "<table border=\"1\" class=\"dataframe\">\n",
       "  <thead>\n",
       "    <tr style=\"text-align: right;\">\n",
       "      <th></th>\n",
       "      <th>Store Number</th>\n",
       "      <th>Store Name</th>\n",
       "      <th>Address</th>\n",
       "      <th>City</th>\n",
       "      <th>Longitude</th>\n",
       "      <th>Latitude</th>\n",
       "    </tr>\n",
       "  </thead>\n",
       "  <tbody>\n",
       "    <tr>\n",
       "      <th>153</th>\n",
       "      <td>5406-945</td>\n",
       "      <td>2224 Shattuck - Berkeley</td>\n",
       "      <td>2224 Shattuck Avenue Berkeley CA</td>\n",
       "      <td>Berkeley</td>\n",
       "      <td>NaN</td>\n",
       "      <td>NaN</td>\n",
       "    </tr>\n",
       "    <tr>\n",
       "      <th>154</th>\n",
       "      <td>570-512</td>\n",
       "      <td>Solano Ave</td>\n",
       "      <td>1799 Solano Avenue Berkeley CA</td>\n",
       "      <td>Berkeley</td>\n",
       "      <td>NaN</td>\n",
       "      <td>NaN</td>\n",
       "    </tr>\n",
       "    <tr>\n",
       "      <th>155</th>\n",
       "      <td>17877-164526</td>\n",
       "      <td>Safeway - Berkeley #691</td>\n",
       "      <td>1444 Shattuck Place Berkeley CA</td>\n",
       "      <td>Berkeley</td>\n",
       "      <td>NaN</td>\n",
       "      <td>NaN</td>\n",
       "    </tr>\n",
       "    <tr>\n",
       "      <th>156</th>\n",
       "      <td>19864-202264</td>\n",
       "      <td>Telegraph &amp; Ashby</td>\n",
       "      <td>3001 Telegraph Avenue Berkeley CA</td>\n",
       "      <td>Berkeley</td>\n",
       "      <td>NaN</td>\n",
       "      <td>NaN</td>\n",
       "    </tr>\n",
       "    <tr>\n",
       "      <th>157</th>\n",
       "      <td>9217-9253</td>\n",
       "      <td>2128 Oxford St.</td>\n",
       "      <td>2128 Oxford Street Berkeley CA</td>\n",
       "      <td>Berkeley</td>\n",
       "      <td>NaN</td>\n",
       "      <td>NaN</td>\n",
       "    </tr>\n",
       "  </tbody>\n",
       "</table>\n",
       "</div>"
      ],
      "text/plain": [
       "     Store Number                Store Name  \\\n",
       "153      5406-945  2224 Shattuck - Berkeley   \n",
       "154       570-512                Solano Ave   \n",
       "155  17877-164526   Safeway - Berkeley #691   \n",
       "156  19864-202264         Telegraph & Ashby   \n",
       "157     9217-9253           2128 Oxford St.   \n",
       "\n",
       "                               Address      City  Longitude  Latitude  \n",
       "153   2224 Shattuck Avenue Berkeley CA  Berkeley        NaN       NaN  \n",
       "154     1799 Solano Avenue Berkeley CA  Berkeley        NaN       NaN  \n",
       "155    1444 Shattuck Place Berkeley CA  Berkeley        NaN       NaN  \n",
       "156  3001 Telegraph Avenue Berkeley CA  Berkeley        NaN       NaN  \n",
       "157     2128 Oxford Street Berkeley CA  Berkeley        NaN       NaN  "
      ]
     },
     "execution_count": 4,
     "metadata": {},
     "output_type": "execute_result"
    }
   ],
   "source": [
    "# How many rows in each column have missing values?\n",
    "print(starbucks.isnull().sum())\n",
    "\n",
    "# View rows with missing locations\n",
    "rows_with_missing = starbucks[starbucks[\"City\"]==\"Berkeley\"]\n",
    "rows_with_missing"
   ]
  },
  {
   "cell_type": "markdown",
   "id": "5eaf510c",
   "metadata": {
    "papermill": {
     "duration": 0.00733,
     "end_time": "2023-10-12T19:28:10.699646",
     "exception": false,
     "start_time": "2023-10-12T19:28:10.692316",
     "status": "completed"
    },
    "tags": []
   },
   "source": [
    "Use the code cell below to fill in these values with the Nominatim geocoder.\n",
    "\n",
    "Note that in the tutorial, we used `Nominatim()` (from `geopy.geocoders`) to geocode values, and this is what you can use in your own projects outside of this course.  \n",
    "\n",
    "In this exercise, you will use a slightly different function `Nominatim()` (from `learntools.geospatial.tools`).  This function was imported at the top of the notebook and works identically to the function from GeoPandas.\n",
    "\n",
    "So, in other words, as long as: \n",
    "- you don't change the import statements at the top of the notebook, and \n",
    "- you call the geocoding function as `geocode()` in the code cell below, \n",
    "\n",
    "your code will work as intended!"
   ]
  },
  {
   "cell_type": "code",
   "execution_count": 5,
   "id": "299f54ee",
   "metadata": {
    "execution": {
     "iopub.execute_input": "2023-10-12T19:28:10.716052Z",
     "iopub.status.busy": "2023-10-12T19:28:10.715671Z",
     "iopub.status.idle": "2023-10-12T19:28:10.796277Z",
     "shell.execute_reply": "2023-10-12T19:28:10.795540Z"
    },
    "papermill": {
     "duration": 0.091702,
     "end_time": "2023-10-12T19:28:10.798682",
     "exception": false,
     "start_time": "2023-10-12T19:28:10.706980",
     "status": "completed"
    },
    "tags": []
   },
   "outputs": [
    {
     "data": {
      "application/javascript": [
       "parent.postMessage({\"jupyterEvent\": \"custom.exercise_interaction\", \"data\": {\"outcomeType\": 1, \"valueTowardsCompletion\": 0.2, \"interactionType\": 1, \"questionType\": 2, \"questionId\": \"1_Q1\", \"learnToolsVersion\": \"0.3.4\", \"failureMessage\": \"\", \"exceptionClass\": \"\", \"trace\": \"\"}}, \"*\")"
      ],
      "text/plain": [
       "<IPython.core.display.Javascript object>"
      ]
     },
     "metadata": {},
     "output_type": "display_data"
    },
    {
     "data": {
      "text/markdown": [
       "<span style=\"color:#33cc33\">Correct</span>"
      ],
      "text/plain": [
       "Correct"
      ]
     },
     "metadata": {},
     "output_type": "display_data"
    }
   ],
   "source": [
    "# Create the geocoder\n",
    "geolocator = Nominatim(user_agent=\"kaggle_learn\")\n",
    "\n",
    "def my_geocoder(row):\n",
    "    try:\n",
    "        point = geolocator.geocode(row).point\n",
    "        return pd.Series({'Latitude': point.latitude, 'Longitude': point.longitude})\n",
    "    except:\n",
    "        return None\n",
    "\n",
    "# Your code here\n",
    "missing_locations  = rows_with_missing.apply(lambda x: my_geocoder(x['Address']), axis=1)\n",
    "starbucks.update(missing_locations)\n",
    "\n",
    "# Check your answer\n",
    "q_1.check()"
   ]
  },
  {
   "cell_type": "code",
   "execution_count": 6,
   "id": "ce6acd1e",
   "metadata": {
    "execution": {
     "iopub.execute_input": "2023-10-12T19:28:10.815843Z",
     "iopub.status.busy": "2023-10-12T19:28:10.815431Z",
     "iopub.status.idle": "2023-10-12T19:28:10.819821Z",
     "shell.execute_reply": "2023-10-12T19:28:10.818797Z"
    },
    "papermill": {
     "duration": 0.015908,
     "end_time": "2023-10-12T19:28:10.822138",
     "exception": false,
     "start_time": "2023-10-12T19:28:10.806230",
     "status": "completed"
    },
    "tags": []
   },
   "outputs": [],
   "source": [
    "# Line below will give you solution code\n",
    "#q_1.solution()"
   ]
  },
  {
   "cell_type": "markdown",
   "id": "62af998d",
   "metadata": {
    "papermill": {
     "duration": 0.007254,
     "end_time": "2023-10-12T19:28:10.837157",
     "exception": false,
     "start_time": "2023-10-12T19:28:10.829903",
     "status": "completed"
    },
    "tags": []
   },
   "source": [
    "### 2) View Berkeley locations.\n",
    "\n",
    "Let's take a look at the locations you just found.  Visualize the (latitude, longitude) locations in Berkeley in the OpenStreetMap style. "
   ]
  },
  {
   "cell_type": "code",
   "execution_count": 7,
   "id": "a4bc553f",
   "metadata": {
    "execution": {
     "iopub.execute_input": "2023-10-12T19:28:10.853691Z",
     "iopub.status.busy": "2023-10-12T19:28:10.853324Z",
     "iopub.status.idle": "2023-10-12T19:28:10.887675Z",
     "shell.execute_reply": "2023-10-12T19:28:10.886467Z"
    },
    "papermill": {
     "duration": 0.045416,
     "end_time": "2023-10-12T19:28:10.890089",
     "exception": false,
     "start_time": "2023-10-12T19:28:10.844673",
     "status": "completed"
    },
    "tags": []
   },
   "outputs": [
    {
     "data": {
      "text/html": [
       "\n",
       "        <iframe\n",
       "            width=\"100%\"\n",
       "            height=\"500px\"\n",
       "            src=\"q_2.html\"\n",
       "            frameborder=\"0\"\n",
       "            allowfullscreen\n",
       "            \n",
       "        ></iframe>\n",
       "        "
      ],
      "text/plain": [
       "<IPython.lib.display.IFrame at 0x7878a083b1f0>"
      ]
     },
     "execution_count": 7,
     "metadata": {},
     "output_type": "execute_result"
    }
   ],
   "source": [
    "# Create a base map\n",
    "m_2 = folium.Map(location=[37.88,-122.26], zoom_start=13)\n",
    "\n",
    "# Your code here: Add a marker for each Berkeley location\n",
    "berkeley = starbucks[starbucks[\"City\"]==\"Berkeley\"]\n",
    "for idx, row in berkeley.iterrows():\n",
    "    Marker([row['Latitude'], row['Longitude']], popup=row['Store Name']).add_to(m_2)\n",
    "\n",
    "\n",
    "# Uncomment to see a hint\n",
    "#q_2.a.hint()\n",
    "\n",
    "# Show the map\n",
    "embed_map(m_2, 'q_2.html')"
   ]
  },
  {
   "cell_type": "code",
   "execution_count": 8,
   "id": "501e5246",
   "metadata": {
    "execution": {
     "iopub.execute_input": "2023-10-12T19:28:10.907764Z",
     "iopub.status.busy": "2023-10-12T19:28:10.906566Z",
     "iopub.status.idle": "2023-10-12T19:28:10.915542Z",
     "shell.execute_reply": "2023-10-12T19:28:10.914682Z"
    },
    "papermill": {
     "duration": 0.019804,
     "end_time": "2023-10-12T19:28:10.917496",
     "exception": false,
     "start_time": "2023-10-12T19:28:10.897692",
     "status": "completed"
    },
    "tags": []
   },
   "outputs": [
    {
     "data": {
      "application/javascript": [
       "parent.postMessage({\"jupyterEvent\": \"custom.exercise_interaction\", \"data\": {\"outcomeType\": 1, \"valueTowardsCompletion\": 0.2, \"interactionType\": 1, \"questionType\": 2, \"questionId\": \"2.1_Q2P\", \"learnToolsVersion\": \"0.3.4\", \"failureMessage\": \"\", \"exceptionClass\": \"\", \"trace\": \"\"}}, \"*\")"
      ],
      "text/plain": [
       "<IPython.core.display.Javascript object>"
      ]
     },
     "metadata": {},
     "output_type": "display_data"
    },
    {
     "data": {
      "text/markdown": [
       "<span style=\"color:#33cc33\">Thank you for creating a map!</span>"
      ],
      "text/plain": [
       "Thank you for creating a map!"
      ]
     },
     "metadata": {},
     "output_type": "display_data"
    }
   ],
   "source": [
    "# Get credit for your work after you have created a map\n",
    "q_2.a.check()\n",
    "\n",
    "# Uncomment to see our solution (your code may look different!)\n",
    "#q_2.a.solution()"
   ]
  },
  {
   "cell_type": "markdown",
   "id": "2cd75c5a",
   "metadata": {
    "papermill": {
     "duration": 0.007749,
     "end_time": "2023-10-12T19:28:10.933868",
     "exception": false,
     "start_time": "2023-10-12T19:28:10.926119",
     "status": "completed"
    },
    "tags": []
   },
   "source": [
    "Considering only the five locations in Berkeley, how many of the (latitude, longitude) locations seem potentially correct (are located in the correct city)?"
   ]
  },
  {
   "cell_type": "code",
   "execution_count": 9,
   "id": "12d44ef6",
   "metadata": {
    "execution": {
     "iopub.execute_input": "2023-10-12T19:28:10.952285Z",
     "iopub.status.busy": "2023-10-12T19:28:10.951029Z",
     "iopub.status.idle": "2023-10-12T19:28:10.960471Z",
     "shell.execute_reply": "2023-10-12T19:28:10.959337Z"
    },
    "papermill": {
     "duration": 0.021098,
     "end_time": "2023-10-12T19:28:10.962862",
     "exception": false,
     "start_time": "2023-10-12T19:28:10.941764",
     "status": "completed"
    },
    "tags": []
   },
   "outputs": [
    {
     "data": {
      "application/javascript": [
       "parent.postMessage({\"jupyterEvent\": \"custom.exercise_interaction\", \"data\": {\"interactionType\": 3, \"questionType\": 4, \"questionId\": \"2.2_Q2T\", \"learnToolsVersion\": \"0.3.4\", \"valueTowardsCompletion\": 0.0, \"failureMessage\": \"\", \"exceptionClass\": \"\", \"trace\": \"\", \"outcomeType\": 4}}, \"*\")"
      ],
      "text/plain": [
       "<IPython.core.display.Javascript object>"
      ]
     },
     "metadata": {},
     "output_type": "display_data"
    },
    {
     "data": {
      "text/markdown": [
       "<span style=\"color:#33cc99\">Solution:</span> All five locations appear to be correct!"
      ],
      "text/plain": [
       "Solution: All five locations appear to be correct!"
      ]
     },
     "metadata": {},
     "output_type": "display_data"
    }
   ],
   "source": [
    "# View the solution (Run this code cell to receive credit!)\n",
    "q_2.b.solution()"
   ]
  },
  {
   "cell_type": "markdown",
   "id": "51b4b5ba",
   "metadata": {
    "papermill": {
     "duration": 0.00913,
     "end_time": "2023-10-12T19:28:10.981265",
     "exception": false,
     "start_time": "2023-10-12T19:28:10.972135",
     "status": "completed"
    },
    "tags": []
   },
   "source": [
    "### 3) Consolidate your data.\n",
    "\n",
    "Run the code below to load a GeoDataFrame `CA_counties` containing the name, area (in square kilometers), and a unique id (in the \"GEOID\" column) for each county in the state of California.  The \"geometry\" column contains a polygon with county boundaries."
   ]
  },
  {
   "cell_type": "code",
   "execution_count": 10,
   "id": "2d4fe7f3",
   "metadata": {
    "execution": {
     "iopub.execute_input": "2023-10-12T19:28:11.006696Z",
     "iopub.status.busy": "2023-10-12T19:28:11.005820Z",
     "iopub.status.idle": "2023-10-12T19:28:11.239346Z",
     "shell.execute_reply": "2023-10-12T19:28:11.238058Z"
    },
    "papermill": {
     "duration": 0.248081,
     "end_time": "2023-10-12T19:28:11.241717",
     "exception": false,
     "start_time": "2023-10-12T19:28:10.993636",
     "status": "completed"
    },
    "tags": []
   },
   "outputs": [
    {
     "name": "stderr",
     "output_type": "stream",
     "text": [
      "/opt/conda/lib/python3.10/site-packages/pyproj/crs/crs.py:141: FutureWarning: '+init=<authority>:<code>' syntax is deprecated. '<authority>:<code>' is the preferred initialization method. When making the change, be mindful of axis order changes: https://pyproj4.github.io/pyproj/stable/gotchas.html#axis-order-changes-in-proj-6\n",
      "  in_crs_string = _prepare_from_proj_string(in_crs_string)\n"
     ]
    },
    {
     "data": {
      "text/html": [
       "<div>\n",
       "<style scoped>\n",
       "    .dataframe tbody tr th:only-of-type {\n",
       "        vertical-align: middle;\n",
       "    }\n",
       "\n",
       "    .dataframe tbody tr th {\n",
       "        vertical-align: top;\n",
       "    }\n",
       "\n",
       "    .dataframe thead th {\n",
       "        text-align: right;\n",
       "    }\n",
       "</style>\n",
       "<table border=\"1\" class=\"dataframe\">\n",
       "  <thead>\n",
       "    <tr style=\"text-align: right;\">\n",
       "      <th></th>\n",
       "      <th>GEOID</th>\n",
       "      <th>name</th>\n",
       "      <th>area_sqkm</th>\n",
       "      <th>geometry</th>\n",
       "    </tr>\n",
       "  </thead>\n",
       "  <tbody>\n",
       "    <tr>\n",
       "      <th>0</th>\n",
       "      <td>6091</td>\n",
       "      <td>Sierra County</td>\n",
       "      <td>2491.995494</td>\n",
       "      <td>POLYGON ((-120.65560 39.69357, -120.65554 39.6...</td>\n",
       "    </tr>\n",
       "    <tr>\n",
       "      <th>1</th>\n",
       "      <td>6067</td>\n",
       "      <td>Sacramento County</td>\n",
       "      <td>2575.258262</td>\n",
       "      <td>POLYGON ((-121.18858 38.71431, -121.18732 38.7...</td>\n",
       "    </tr>\n",
       "    <tr>\n",
       "      <th>2</th>\n",
       "      <td>6083</td>\n",
       "      <td>Santa Barbara County</td>\n",
       "      <td>9813.817958</td>\n",
       "      <td>MULTIPOLYGON (((-120.58191 34.09856, -120.5822...</td>\n",
       "    </tr>\n",
       "    <tr>\n",
       "      <th>3</th>\n",
       "      <td>6009</td>\n",
       "      <td>Calaveras County</td>\n",
       "      <td>2685.626726</td>\n",
       "      <td>POLYGON ((-120.63095 38.34111, -120.63058 38.3...</td>\n",
       "    </tr>\n",
       "    <tr>\n",
       "      <th>4</th>\n",
       "      <td>6111</td>\n",
       "      <td>Ventura County</td>\n",
       "      <td>5719.321379</td>\n",
       "      <td>MULTIPOLYGON (((-119.63631 33.27304, -119.6360...</td>\n",
       "    </tr>\n",
       "  </tbody>\n",
       "</table>\n",
       "</div>"
      ],
      "text/plain": [
       "   GEOID                  name    area_sqkm  \\\n",
       "0   6091         Sierra County  2491.995494   \n",
       "1   6067     Sacramento County  2575.258262   \n",
       "2   6083  Santa Barbara County  9813.817958   \n",
       "3   6009      Calaveras County  2685.626726   \n",
       "4   6111        Ventura County  5719.321379   \n",
       "\n",
       "                                            geometry  \n",
       "0  POLYGON ((-120.65560 39.69357, -120.65554 39.6...  \n",
       "1  POLYGON ((-121.18858 38.71431, -121.18732 38.7...  \n",
       "2  MULTIPOLYGON (((-120.58191 34.09856, -120.5822...  \n",
       "3  POLYGON ((-120.63095 38.34111, -120.63058 38.3...  \n",
       "4  MULTIPOLYGON (((-119.63631 33.27304, -119.6360...  "
      ]
     },
     "execution_count": 10,
     "metadata": {},
     "output_type": "execute_result"
    }
   ],
   "source": [
    "CA_counties = gpd.read_file(\"../input/geospatial-learn-course-data/CA_county_boundaries/CA_county_boundaries/CA_county_boundaries.shp\")\n",
    "CA_counties.crs = {'init': 'epsg:4326'}\n",
    "CA_counties.head()"
   ]
  },
  {
   "cell_type": "markdown",
   "id": "6982be6b",
   "metadata": {
    "papermill": {
     "duration": 0.008119,
     "end_time": "2023-10-12T19:28:11.258183",
     "exception": false,
     "start_time": "2023-10-12T19:28:11.250064",
     "status": "completed"
    },
    "tags": []
   },
   "source": [
    "Next, we create three DataFrames:\n",
    "- `CA_pop` contains an estimate of the population of each county.\n",
    "- `CA_high_earners` contains the number of households with an income of at least $150,000 per year.\n",
    "- `CA_median_age` contains the median age for each county."
   ]
  },
  {
   "cell_type": "code",
   "execution_count": 11,
   "id": "ebde9602",
   "metadata": {
    "execution": {
     "iopub.execute_input": "2023-10-12T19:28:11.276699Z",
     "iopub.status.busy": "2023-10-12T19:28:11.276256Z",
     "iopub.status.idle": "2023-10-12T19:28:11.290751Z",
     "shell.execute_reply": "2023-10-12T19:28:11.289224Z"
    },
    "papermill": {
     "duration": 0.027112,
     "end_time": "2023-10-12T19:28:11.293580",
     "exception": false,
     "start_time": "2023-10-12T19:28:11.266468",
     "status": "completed"
    },
    "tags": []
   },
   "outputs": [],
   "source": [
    "CA_pop = pd.read_csv(\"../input/geospatial-learn-course-data/CA_county_population.csv\", index_col=\"GEOID\")\n",
    "CA_high_earners = pd.read_csv(\"../input/geospatial-learn-course-data/CA_county_high_earners.csv\", index_col=\"GEOID\")\n",
    "CA_median_age = pd.read_csv(\"../input/geospatial-learn-course-data/CA_county_median_age.csv\", index_col=\"GEOID\")"
   ]
  },
  {
   "cell_type": "markdown",
   "id": "05328ecc",
   "metadata": {
    "papermill": {
     "duration": 0.008067,
     "end_time": "2023-10-12T19:28:11.310498",
     "exception": false,
     "start_time": "2023-10-12T19:28:11.302431",
     "status": "completed"
    },
    "tags": []
   },
   "source": [
    "Use the next code cell to join the `CA_counties` GeoDataFrame with `CA_pop`, `CA_high_earners`, and `CA_median_age`.\n",
    "\n",
    "Name the resultant GeoDataFrame `CA_stats`, and make sure it has 8 columns: \"GEOID\", \"name\", \"area_sqkm\", \"geometry\", \"population\", \"high_earners\", and \"median_age\".  "
   ]
  },
  {
   "cell_type": "code",
   "execution_count": 12,
   "id": "b74e3e9e",
   "metadata": {
    "execution": {
     "iopub.execute_input": "2023-10-12T19:28:11.329191Z",
     "iopub.status.busy": "2023-10-12T19:28:11.328819Z",
     "iopub.status.idle": "2023-10-12T19:28:11.473396Z",
     "shell.execute_reply": "2023-10-12T19:28:11.472587Z"
    },
    "papermill": {
     "duration": 0.156788,
     "end_time": "2023-10-12T19:28:11.475765",
     "exception": false,
     "start_time": "2023-10-12T19:28:11.318977",
     "status": "completed"
    },
    "tags": []
   },
   "outputs": [
    {
     "data": {
      "application/javascript": [
       "parent.postMessage({\"jupyterEvent\": \"custom.exercise_interaction\", \"data\": {\"outcomeType\": 1, \"valueTowardsCompletion\": 0.2, \"interactionType\": 1, \"questionType\": 2, \"questionId\": \"3_Q3\", \"learnToolsVersion\": \"0.3.4\", \"failureMessage\": \"\", \"exceptionClass\": \"\", \"trace\": \"\"}}, \"*\")"
      ],
      "text/plain": [
       "<IPython.core.display.Javascript object>"
      ]
     },
     "metadata": {},
     "output_type": "display_data"
    },
    {
     "data": {
      "text/markdown": [
       "<span style=\"color:#33cc33\">Correct</span>"
      ],
      "text/plain": [
       "Correct"
      ]
     },
     "metadata": {},
     "output_type": "display_data"
    }
   ],
   "source": [
    "# Your code here\n",
    "CA_stats = CA_counties.copy()\n",
    "CA_pop = CA_pop.reset_index()\n",
    "CA_high_earners = CA_high_earners.reset_index()\n",
    "CA_median_age = CA_median_age.reset_index()\n",
    "\n",
    "CA_stats = CA_stats.merge(CA_pop, how = 'left', on = 'GEOID')\n",
    "CA_stats = CA_stats.merge(CA_high_earners, how = 'left', on = 'GEOID')\n",
    "CA_stats = CA_stats.merge(CA_median_age, how = 'left', on = 'GEOID')\n",
    "\n",
    "# Check your answer\n",
    "q_3.check()"
   ]
  },
  {
   "cell_type": "code",
   "execution_count": 13,
   "id": "b3d201e3",
   "metadata": {
    "execution": {
     "iopub.execute_input": "2023-10-12T19:28:11.495400Z",
     "iopub.status.busy": "2023-10-12T19:28:11.495068Z",
     "iopub.status.idle": "2023-10-12T19:28:11.499817Z",
     "shell.execute_reply": "2023-10-12T19:28:11.498869Z"
    },
    "papermill": {
     "duration": 0.017854,
     "end_time": "2023-10-12T19:28:11.502106",
     "exception": false,
     "start_time": "2023-10-12T19:28:11.484252",
     "status": "completed"
    },
    "tags": []
   },
   "outputs": [],
   "source": [
    "# Lines below will give you a hint or solution code\n",
    "#q_3.hint()\n",
    "#q_3.solution()"
   ]
  },
  {
   "cell_type": "markdown",
   "id": "a48dff09",
   "metadata": {
    "papermill": {
     "duration": 0.069271,
     "end_time": "2023-10-12T19:28:11.579835",
     "exception": false,
     "start_time": "2023-10-12T19:28:11.510564",
     "status": "completed"
    },
    "tags": []
   },
   "source": [
    "Now that we have all of the data in one place, it's much easier to calculate statistics that use a combination of columns.  Run the next code cell to create a \"density\" column with the population density."
   ]
  },
  {
   "cell_type": "code",
   "execution_count": 14,
   "id": "6870bc07",
   "metadata": {
    "execution": {
     "iopub.execute_input": "2023-10-12T19:28:11.598861Z",
     "iopub.status.busy": "2023-10-12T19:28:11.598475Z",
     "iopub.status.idle": "2023-10-12T19:28:11.604753Z",
     "shell.execute_reply": "2023-10-12T19:28:11.603553Z"
    },
    "papermill": {
     "duration": 0.018673,
     "end_time": "2023-10-12T19:28:11.607114",
     "exception": false,
     "start_time": "2023-10-12T19:28:11.588441",
     "status": "completed"
    },
    "tags": []
   },
   "outputs": [],
   "source": [
    "CA_stats[\"density\"] = CA_stats[\"population\"] / CA_stats[\"area_sqkm\"]"
   ]
  },
  {
   "cell_type": "markdown",
   "id": "e41f468c",
   "metadata": {
    "papermill": {
     "duration": 0.008338,
     "end_time": "2023-10-12T19:28:11.624499",
     "exception": false,
     "start_time": "2023-10-12T19:28:11.616161",
     "status": "completed"
    },
    "tags": []
   },
   "source": [
    "### 4) Which counties look promising?\n",
    "\n",
    "Collapsing all of the information into a single GeoDataFrame also makes it much easier to select counties that meet specific criteria.\n",
    "\n",
    "Use the next code cell to create a GeoDataFrame `sel_counties` that contains a subset of the rows (and all of the columns) from the `CA_stats` GeoDataFrame.  In particular, you should select counties where:\n",
    "- there are at least 100,000 households making \\$150,000 per year,\n",
    "- the median age is less than 38.5, and\n",
    "- the density of inhabitants is at least 285 (per square kilometer).\n",
    "\n",
    "Additionally, selected counties should satisfy at least one of the following criteria:\n",
    "- there are at least 500,000 households making \\$150,000 per year,\n",
    "- the median age is less than 35.5, or\n",
    "- the density of inhabitants is at least 1400 (per square kilometer)."
   ]
  },
  {
   "cell_type": "code",
   "execution_count": 15,
   "id": "c189b542",
   "metadata": {
    "execution": {
     "iopub.execute_input": "2023-10-12T19:28:11.643433Z",
     "iopub.status.busy": "2023-10-12T19:28:11.643072Z",
     "iopub.status.idle": "2023-10-12T19:28:11.676008Z",
     "shell.execute_reply": "2023-10-12T19:28:11.674979Z"
    },
    "papermill": {
     "duration": 0.044737,
     "end_time": "2023-10-12T19:28:11.678059",
     "exception": false,
     "start_time": "2023-10-12T19:28:11.633322",
     "status": "completed"
    },
    "tags": []
   },
   "outputs": [
    {
     "data": {
      "application/javascript": [
       "parent.postMessage({\"jupyterEvent\": \"custom.exercise_interaction\", \"data\": {\"outcomeType\": 1, \"valueTowardsCompletion\": 0.2, \"interactionType\": 1, \"questionType\": 2, \"questionId\": \"4_Q4\", \"learnToolsVersion\": \"0.3.4\", \"failureMessage\": \"\", \"exceptionClass\": \"\", \"trace\": \"\"}}, \"*\")"
      ],
      "text/plain": [
       "<IPython.core.display.Javascript object>"
      ]
     },
     "metadata": {},
     "output_type": "display_data"
    },
    {
     "data": {
      "text/markdown": [
       "<span style=\"color:#33cc33\">Correct</span>"
      ],
      "text/plain": [
       "Correct"
      ]
     },
     "metadata": {},
     "output_type": "display_data"
    }
   ],
   "source": [
    "# Your code here\n",
    "sel_counties = CA_stats.copy()\n",
    "sel_counties = sel_counties[sel_counties['median_age'] < 38.5]\n",
    "sel_counties = sel_counties[sel_counties['density'] >= 285]\n",
    "sel_counties = sel_counties[sel_counties['high_earners'] >= 100000]\n",
    "\n",
    "filt_1 = (sel_counties['high_earners'] >= 500000)\n",
    "filt_2 = (sel_counties['median_age'] < 35.5)\n",
    "filt_3 = (sel_counties['density'] >= 1400)\n",
    "filt_total = filt_1+filt_2+filt_3\n",
    "\n",
    "sel_counties = sel_counties[filt_total]\n",
    "sel_counties\n",
    "# Check your answer\n",
    "q_4.check()"
   ]
  },
  {
   "cell_type": "code",
   "execution_count": 16,
   "id": "33a6f555",
   "metadata": {
    "execution": {
     "iopub.execute_input": "2023-10-12T19:28:11.697717Z",
     "iopub.status.busy": "2023-10-12T19:28:11.696976Z",
     "iopub.status.idle": "2023-10-12T19:28:11.701859Z",
     "shell.execute_reply": "2023-10-12T19:28:11.700769Z"
    },
    "papermill": {
     "duration": 0.01703,
     "end_time": "2023-10-12T19:28:11.703979",
     "exception": false,
     "start_time": "2023-10-12T19:28:11.686949",
     "status": "completed"
    },
    "tags": []
   },
   "outputs": [],
   "source": [
    "# Lines below will give you a hint or solution code\n",
    "#q_4.hint()\n",
    "#q_4.solution()"
   ]
  },
  {
   "cell_type": "markdown",
   "id": "5709e0ff",
   "metadata": {
    "papermill": {
     "duration": 0.008441,
     "end_time": "2023-10-12T19:28:11.721293",
     "exception": false,
     "start_time": "2023-10-12T19:28:11.712852",
     "status": "completed"
    },
    "tags": []
   },
   "source": [
    "### 5) How many stores did you identify?\n",
    "\n",
    "When looking for the next Starbucks Reserve Roastery location, you'd like to consider all of the stores within the counties that you selected.  So, how many stores are within the selected counties?\n",
    "\n",
    "To prepare to answer this question, run the next code cell to create a GeoDataFrame `starbucks_gdf` with all of the starbucks locations."
   ]
  },
  {
   "cell_type": "code",
   "execution_count": 17,
   "id": "a5d38257",
   "metadata": {
    "execution": {
     "iopub.execute_input": "2023-10-12T19:28:11.740219Z",
     "iopub.status.busy": "2023-10-12T19:28:11.739829Z",
     "iopub.status.idle": "2023-10-12T19:28:11.830635Z",
     "shell.execute_reply": "2023-10-12T19:28:11.829099Z"
    },
    "papermill": {
     "duration": 0.103265,
     "end_time": "2023-10-12T19:28:11.833201",
     "exception": false,
     "start_time": "2023-10-12T19:28:11.729936",
     "status": "completed"
    },
    "tags": []
   },
   "outputs": [
    {
     "name": "stderr",
     "output_type": "stream",
     "text": [
      "/opt/conda/lib/python3.10/site-packages/pyproj/crs/crs.py:141: FutureWarning: '+init=<authority>:<code>' syntax is deprecated. '<authority>:<code>' is the preferred initialization method. When making the change, be mindful of axis order changes: https://pyproj4.github.io/pyproj/stable/gotchas.html#axis-order-changes-in-proj-6\n",
      "  in_crs_string = _prepare_from_proj_string(in_crs_string)\n"
     ]
    }
   ],
   "source": [
    "starbucks_gdf = gpd.GeoDataFrame(starbucks, geometry=gpd.points_from_xy(starbucks.Longitude, starbucks.Latitude))\n",
    "starbucks_gdf.crs = {'init': 'epsg:4326'}"
   ]
  },
  {
   "cell_type": "markdown",
   "id": "623d532e",
   "metadata": {
    "papermill": {
     "duration": 0.008637,
     "end_time": "2023-10-12T19:28:11.850852",
     "exception": false,
     "start_time": "2023-10-12T19:28:11.842215",
     "status": "completed"
    },
    "tags": []
   },
   "source": [
    "So, how many stores are in the counties you selected?"
   ]
  },
  {
   "cell_type": "code",
   "execution_count": 18,
   "id": "dba2d808",
   "metadata": {
    "execution": {
     "iopub.execute_input": "2023-10-12T19:28:11.870847Z",
     "iopub.status.busy": "2023-10-12T19:28:11.870435Z",
     "iopub.status.idle": "2023-10-12T19:28:11.904627Z",
     "shell.execute_reply": "2023-10-12T19:28:11.903540Z"
    },
    "papermill": {
     "duration": 0.046616,
     "end_time": "2023-10-12T19:28:11.906696",
     "exception": false,
     "start_time": "2023-10-12T19:28:11.860080",
     "status": "completed"
    },
    "tags": []
   },
   "outputs": [
    {
     "data": {
      "text/html": [
       "<div>\n",
       "<style scoped>\n",
       "    .dataframe tbody tr th:only-of-type {\n",
       "        vertical-align: middle;\n",
       "    }\n",
       "\n",
       "    .dataframe tbody tr th {\n",
       "        vertical-align: top;\n",
       "    }\n",
       "\n",
       "    .dataframe thead th {\n",
       "        text-align: right;\n",
       "    }\n",
       "</style>\n",
       "<table border=\"1\" class=\"dataframe\">\n",
       "  <thead>\n",
       "    <tr style=\"text-align: right;\">\n",
       "      <th></th>\n",
       "      <th>Store Number</th>\n",
       "      <th>Store Name</th>\n",
       "      <th>Address</th>\n",
       "      <th>City</th>\n",
       "      <th>Longitude</th>\n",
       "      <th>Latitude</th>\n",
       "      <th>geometry</th>\n",
       "    </tr>\n",
       "  </thead>\n",
       "  <tbody>\n",
       "    <tr>\n",
       "      <th>0</th>\n",
       "      <td>10429-100710</td>\n",
       "      <td>Palmdale &amp; Hwy 395</td>\n",
       "      <td>14136 US Hwy 395 Adelanto CA</td>\n",
       "      <td>Adelanto</td>\n",
       "      <td>-117.40</td>\n",
       "      <td>34.51</td>\n",
       "      <td>POINT (-117.40000 34.51000)</td>\n",
       "    </tr>\n",
       "    <tr>\n",
       "      <th>1</th>\n",
       "      <td>635-352</td>\n",
       "      <td>Kanan &amp; Thousand Oaks</td>\n",
       "      <td>5827 Kanan Road Agoura CA</td>\n",
       "      <td>Agoura</td>\n",
       "      <td>-118.76</td>\n",
       "      <td>34.16</td>\n",
       "      <td>POINT (-118.76000 34.16000)</td>\n",
       "    </tr>\n",
       "    <tr>\n",
       "      <th>2</th>\n",
       "      <td>74510-27669</td>\n",
       "      <td>Vons-Agoura Hills #2001</td>\n",
       "      <td>5671 Kanan Rd. Agoura Hills CA</td>\n",
       "      <td>Agoura Hills</td>\n",
       "      <td>-118.76</td>\n",
       "      <td>34.15</td>\n",
       "      <td>POINT (-118.76000 34.15000)</td>\n",
       "    </tr>\n",
       "    <tr>\n",
       "      <th>3</th>\n",
       "      <td>29839-255026</td>\n",
       "      <td>Target Anaheim T-0677</td>\n",
       "      <td>8148 E SANTA ANA CANYON ROAD AHAHEIM CA</td>\n",
       "      <td>AHAHEIM</td>\n",
       "      <td>-117.75</td>\n",
       "      <td>33.87</td>\n",
       "      <td>POINT (-117.75000 33.87000)</td>\n",
       "    </tr>\n",
       "    <tr>\n",
       "      <th>4</th>\n",
       "      <td>23463-230284</td>\n",
       "      <td>Safeway - Alameda 3281</td>\n",
       "      <td>2600 5th Street Alameda CA</td>\n",
       "      <td>Alameda</td>\n",
       "      <td>-122.28</td>\n",
       "      <td>37.79</td>\n",
       "      <td>POINT (-122.28000 37.79000)</td>\n",
       "    </tr>\n",
       "    <tr>\n",
       "      <th>...</th>\n",
       "      <td>...</td>\n",
       "      <td>...</td>\n",
       "      <td>...</td>\n",
       "      <td>...</td>\n",
       "      <td>...</td>\n",
       "      <td>...</td>\n",
       "      <td>...</td>\n",
       "    </tr>\n",
       "    <tr>\n",
       "      <th>2816</th>\n",
       "      <td>14071-108147</td>\n",
       "      <td>Hwy 20 &amp; Tharp - Yuba City</td>\n",
       "      <td>1615 Colusa Hwy, Ste 100 Yuba City CA</td>\n",
       "      <td>Yuba City</td>\n",
       "      <td>-121.64</td>\n",
       "      <td>39.14</td>\n",
       "      <td>POINT (-121.64000 39.14000)</td>\n",
       "    </tr>\n",
       "    <tr>\n",
       "      <th>2817</th>\n",
       "      <td>9974-98559</td>\n",
       "      <td>Yucaipa &amp; Hampton, Yucaipa</td>\n",
       "      <td>31364 Yucaipa Blvd., A Yucaipa CA</td>\n",
       "      <td>Yucaipa</td>\n",
       "      <td>-117.12</td>\n",
       "      <td>34.03</td>\n",
       "      <td>POINT (-117.12000 34.03000)</td>\n",
       "    </tr>\n",
       "    <tr>\n",
       "      <th>2818</th>\n",
       "      <td>79654-108478</td>\n",
       "      <td>Vons - Yucaipa #1796</td>\n",
       "      <td>33644 YUCAIPA BLVD YUCAIPA CA</td>\n",
       "      <td>YUCAIPA</td>\n",
       "      <td>-117.07</td>\n",
       "      <td>34.04</td>\n",
       "      <td>POINT (-117.07000 34.04000)</td>\n",
       "    </tr>\n",
       "    <tr>\n",
       "      <th>2819</th>\n",
       "      <td>6438-245084</td>\n",
       "      <td>Yucaipa &amp; 6th</td>\n",
       "      <td>34050 Yucaipa Blvd., 200 Yucaipa CA</td>\n",
       "      <td>Yucaipa</td>\n",
       "      <td>-117.06</td>\n",
       "      <td>34.03</td>\n",
       "      <td>POINT (-117.06000 34.03000)</td>\n",
       "    </tr>\n",
       "    <tr>\n",
       "      <th>2820</th>\n",
       "      <td>6829-82142</td>\n",
       "      <td>Highway 62 &amp; Warren Vista</td>\n",
       "      <td>57744  29 Palms Highway Yucca Valley CA</td>\n",
       "      <td>Yucca Valley</td>\n",
       "      <td>-116.40</td>\n",
       "      <td>34.13</td>\n",
       "      <td>POINT (-116.40000 34.13000)</td>\n",
       "    </tr>\n",
       "  </tbody>\n",
       "</table>\n",
       "<p>2821 rows × 7 columns</p>\n",
       "</div>"
      ],
      "text/plain": [
       "      Store Number                  Store Name  \\\n",
       "0     10429-100710          Palmdale & Hwy 395   \n",
       "1          635-352       Kanan & Thousand Oaks   \n",
       "2      74510-27669     Vons-Agoura Hills #2001   \n",
       "3     29839-255026       Target Anaheim T-0677   \n",
       "4     23463-230284      Safeway - Alameda 3281   \n",
       "...            ...                         ...   \n",
       "2816  14071-108147  Hwy 20 & Tharp - Yuba City   \n",
       "2817    9974-98559  Yucaipa & Hampton, Yucaipa   \n",
       "2818  79654-108478        Vons - Yucaipa #1796   \n",
       "2819   6438-245084               Yucaipa & 6th   \n",
       "2820    6829-82142   Highway 62 & Warren Vista   \n",
       "\n",
       "                                      Address          City  Longitude  \\\n",
       "0                14136 US Hwy 395 Adelanto CA      Adelanto    -117.40   \n",
       "1                   5827 Kanan Road Agoura CA        Agoura    -118.76   \n",
       "2              5671 Kanan Rd. Agoura Hills CA  Agoura Hills    -118.76   \n",
       "3     8148 E SANTA ANA CANYON ROAD AHAHEIM CA       AHAHEIM    -117.75   \n",
       "4                  2600 5th Street Alameda CA       Alameda    -122.28   \n",
       "...                                       ...           ...        ...   \n",
       "2816    1615 Colusa Hwy, Ste 100 Yuba City CA     Yuba City    -121.64   \n",
       "2817        31364 Yucaipa Blvd., A Yucaipa CA       Yucaipa    -117.12   \n",
       "2818            33644 YUCAIPA BLVD YUCAIPA CA       YUCAIPA    -117.07   \n",
       "2819      34050 Yucaipa Blvd., 200 Yucaipa CA       Yucaipa    -117.06   \n",
       "2820  57744  29 Palms Highway Yucca Valley CA  Yucca Valley    -116.40   \n",
       "\n",
       "      Latitude                     geometry  \n",
       "0        34.51  POINT (-117.40000 34.51000)  \n",
       "1        34.16  POINT (-118.76000 34.16000)  \n",
       "2        34.15  POINT (-118.76000 34.15000)  \n",
       "3        33.87  POINT (-117.75000 33.87000)  \n",
       "4        37.79  POINT (-122.28000 37.79000)  \n",
       "...        ...                          ...  \n",
       "2816     39.14  POINT (-121.64000 39.14000)  \n",
       "2817     34.03  POINT (-117.12000 34.03000)  \n",
       "2818     34.04  POINT (-117.07000 34.04000)  \n",
       "2819     34.03  POINT (-117.06000 34.03000)  \n",
       "2820     34.13  POINT (-116.40000 34.13000)  \n",
       "\n",
       "[2821 rows x 7 columns]"
      ]
     },
     "execution_count": 18,
     "metadata": {},
     "output_type": "execute_result"
    }
   ],
   "source": [
    "starbucks_gdf"
   ]
  },
  {
   "cell_type": "code",
   "execution_count": 19,
   "id": "baf0b4b8",
   "metadata": {
    "execution": {
     "iopub.execute_input": "2023-10-12T19:28:11.927267Z",
     "iopub.status.busy": "2023-10-12T19:28:11.926780Z",
     "iopub.status.idle": "2023-10-12T19:28:12.072837Z",
     "shell.execute_reply": "2023-10-12T19:28:12.071704Z"
    },
    "papermill": {
     "duration": 0.159022,
     "end_time": "2023-10-12T19:28:12.075077",
     "exception": false,
     "start_time": "2023-10-12T19:28:11.916055",
     "status": "completed"
    },
    "tags": []
   },
   "outputs": [
    {
     "data": {
      "application/javascript": [
       "parent.postMessage({\"jupyterEvent\": \"custom.exercise_interaction\", \"data\": {\"outcomeType\": 1, \"valueTowardsCompletion\": 0.2, \"interactionType\": 1, \"questionType\": 2, \"questionId\": \"5_Q5\", \"learnToolsVersion\": \"0.3.4\", \"failureMessage\": \"\", \"exceptionClass\": \"\", \"trace\": \"\"}}, \"*\")"
      ],
      "text/plain": [
       "<IPython.core.display.Javascript object>"
      ]
     },
     "metadata": {},
     "output_type": "display_data"
    },
    {
     "data": {
      "text/markdown": [
       "<span style=\"color:#33cc33\">Correct</span>"
      ],
      "text/plain": [
       "Correct"
      ]
     },
     "metadata": {},
     "output_type": "display_data"
    }
   ],
   "source": [
    "# Fill in your answer\n",
    "num_stores = gpd.sjoin(sel_counties,starbucks_gdf)\n",
    "num_stores = len(num_stores)\n",
    "\n",
    "# Check your answer\n",
    "q_5.check()"
   ]
  },
  {
   "cell_type": "code",
   "execution_count": 20,
   "id": "44d00f6e",
   "metadata": {
    "execution": {
     "iopub.execute_input": "2023-10-12T19:28:12.095925Z",
     "iopub.status.busy": "2023-10-12T19:28:12.095489Z",
     "iopub.status.idle": "2023-10-12T19:28:12.100169Z",
     "shell.execute_reply": "2023-10-12T19:28:12.099056Z"
    },
    "papermill": {
     "duration": 0.017444,
     "end_time": "2023-10-12T19:28:12.102314",
     "exception": false,
     "start_time": "2023-10-12T19:28:12.084870",
     "status": "completed"
    },
    "tags": []
   },
   "outputs": [],
   "source": [
    "# Lines below will give you a hint or solution code\n",
    "#q_5.hint()\n",
    "#q_5.solution()"
   ]
  },
  {
   "cell_type": "markdown",
   "id": "3f7e4669",
   "metadata": {
    "papermill": {
     "duration": 0.009528,
     "end_time": "2023-10-12T19:28:12.121424",
     "exception": false,
     "start_time": "2023-10-12T19:28:12.111896",
     "status": "completed"
    },
    "tags": []
   },
   "source": [
    "### 6) Visualize the store locations.\n",
    "\n",
    "Create a map that shows the locations of the stores that you identified in the previous question."
   ]
  },
  {
   "cell_type": "code",
   "execution_count": 21,
   "id": "d1c8f432",
   "metadata": {
    "execution": {
     "iopub.execute_input": "2023-10-12T19:28:12.142211Z",
     "iopub.status.busy": "2023-10-12T19:28:12.141434Z",
     "iopub.status.idle": "2023-10-12T19:28:13.599587Z",
     "shell.execute_reply": "2023-10-12T19:28:13.598329Z"
    },
    "papermill": {
     "duration": 1.471732,
     "end_time": "2023-10-12T19:28:13.602693",
     "exception": false,
     "start_time": "2023-10-12T19:28:12.130961",
     "status": "completed"
    },
    "tags": []
   },
   "outputs": [
    {
     "data": {
      "text/html": [
       "\n",
       "        <iframe\n",
       "            width=\"100%\"\n",
       "            height=\"500px\"\n",
       "            src=\"q_6.html\"\n",
       "            frameborder=\"0\"\n",
       "            allowfullscreen\n",
       "            \n",
       "        ></iframe>\n",
       "        "
      ],
      "text/plain": [
       "<IPython.lib.display.IFrame at 0x78789fd2a830>"
      ]
     },
     "execution_count": 21,
     "metadata": {},
     "output_type": "execute_result"
    }
   ],
   "source": [
    "# Create a base map\n",
    "m_6 = folium.Map(location=[37,-120], zoom_start=6)\n",
    "df = gpd.sjoin(sel_counties,starbucks_gdf)\n",
    "\n",
    "# Your code here: show selected store locations\n",
    "for idx, row in df.iterrows():\n",
    "    Marker([row['Latitude'], row['Longitude']], popup=row['Store Name']).add_to(m_6)\n",
    "\n",
    "# Uncomment to see a hint\n",
    "#q_6.hint()\n",
    "\n",
    "# Show the map\n",
    "embed_map(m_6, 'q_6.html')"
   ]
  },
  {
   "cell_type": "code",
   "execution_count": 22,
   "id": "424c373c",
   "metadata": {
    "execution": {
     "iopub.execute_input": "2023-10-12T19:28:13.625830Z",
     "iopub.status.busy": "2023-10-12T19:28:13.625451Z",
     "iopub.status.idle": "2023-10-12T19:28:13.635959Z",
     "shell.execute_reply": "2023-10-12T19:28:13.634815Z"
    },
    "papermill": {
     "duration": 0.023824,
     "end_time": "2023-10-12T19:28:13.638318",
     "exception": false,
     "start_time": "2023-10-12T19:28:13.614494",
     "status": "completed"
    },
    "tags": []
   },
   "outputs": [
    {
     "data": {
      "application/javascript": [
       "parent.postMessage({\"jupyterEvent\": \"custom.exercise_interaction\", \"data\": {\"outcomeType\": 1, \"valueTowardsCompletion\": 0.2, \"interactionType\": 1, \"questionType\": 2, \"questionId\": \"6_Q6\", \"learnToolsVersion\": \"0.3.4\", \"failureMessage\": \"\", \"exceptionClass\": \"\", \"trace\": \"\"}}, \"*\")"
      ],
      "text/plain": [
       "<IPython.core.display.Javascript object>"
      ]
     },
     "metadata": {},
     "output_type": "display_data"
    },
    {
     "data": {
      "text/markdown": [
       "<span style=\"color:#33cc33\">Thank you for creating a map!</span>"
      ],
      "text/plain": [
       "Thank you for creating a map!"
      ]
     },
     "metadata": {},
     "output_type": "display_data"
    }
   ],
   "source": [
    "# Get credit for your work after you have created a map\n",
    "q_6.check()\n",
    "\n",
    "# Uncomment to see our solution (your code may look different!)\n",
    "#q_6.solution()"
   ]
  },
  {
   "cell_type": "markdown",
   "id": "b1d9d5ae",
   "metadata": {
    "papermill": {
     "duration": 0.010474,
     "end_time": "2023-10-12T19:28:13.660731",
     "exception": false,
     "start_time": "2023-10-12T19:28:13.650257",
     "status": "completed"
    },
    "tags": []
   },
   "source": [
    "# Keep going\n",
    "\n",
    "Learn about how **[proximity analysis](https://www.kaggle.com/alexisbcook/proximity-analysis)** can help you to understand the relationships between points on a map."
   ]
  },
  {
   "cell_type": "markdown",
   "id": "c75bc1b4",
   "metadata": {
    "papermill": {
     "duration": 0.010973,
     "end_time": "2023-10-12T19:28:13.682902",
     "exception": false,
     "start_time": "2023-10-12T19:28:13.671929",
     "status": "completed"
    },
    "tags": []
   },
   "source": [
    "---\n",
    "\n",
    "\n",
    "\n",
    "\n",
    "*Have questions or comments? Visit the [course discussion forum](https://www.kaggle.com/learn/geospatial-analysis/discussion) to chat with other learners.*"
   ]
  }
 ],
 "metadata": {
  "kernelspec": {
   "display_name": "Python 3",
   "language": "python",
   "name": "python3"
  },
  "language_info": {
   "codemirror_mode": {
    "name": "ipython",
    "version": 3
   },
   "file_extension": ".py",
   "mimetype": "text/x-python",
   "name": "python",
   "nbconvert_exporter": "python",
   "pygments_lexer": "ipython3",
   "version": "3.10.12"
  },
  "papermill": {
   "default_parameters": {},
   "duration": 11.811719,
   "end_time": "2023-10-12T19:28:14.415058",
   "environment_variables": {},
   "exception": null,
   "input_path": "__notebook__.ipynb",
   "output_path": "__notebook__.ipynb",
   "parameters": {},
   "start_time": "2023-10-12T19:28:02.603339",
   "version": "2.4.0"
  }
 },
 "nbformat": 4,
 "nbformat_minor": 5
}
