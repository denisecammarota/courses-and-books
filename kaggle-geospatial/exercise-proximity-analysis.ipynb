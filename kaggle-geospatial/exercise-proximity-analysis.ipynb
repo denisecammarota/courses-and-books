{
 "cells": [
  {
   "cell_type": "markdown",
   "id": "1f7e6311",
   "metadata": {
    "papermill": {
     "duration": 0.00617,
     "end_time": "2023-10-12T21:23:29.040908",
     "exception": false,
     "start_time": "2023-10-12T21:23:29.034738",
     "status": "completed"
    },
    "tags": []
   },
   "source": [
    "**This notebook is an exercise in the [Geospatial Analysis](https://www.kaggle.com/learn/geospatial-analysis) course.  You can reference the tutorial at [this link](https://www.kaggle.com/alexisbcook/proximity-analysis).**\n",
    "\n",
    "---\n"
   ]
  },
  {
   "cell_type": "markdown",
   "id": "c9e65697",
   "metadata": {
    "papermill": {
     "duration": 0.005439,
     "end_time": "2023-10-12T21:23:29.052197",
     "exception": false,
     "start_time": "2023-10-12T21:23:29.046758",
     "status": "completed"
    },
    "tags": []
   },
   "source": [
    "# Introduction \n",
    "\n",
    "You are part of a crisis response team, and you want to identify how hospitals have been responding to crash collisions in New York City.\n",
    "\n",
    "<center>\n",
    "<img src=\"https://storage.googleapis.com/kaggle-media/learn/images/wamd0n7.png\" width=\"450\"><br/>\n",
    "</center>\n",
    "\n",
    "Before you get started, run the code cell below to set everything up."
   ]
  },
  {
   "cell_type": "code",
   "execution_count": 1,
   "id": "3a0d219a",
   "metadata": {
    "execution": {
     "iopub.execute_input": "2023-10-12T21:23:29.065720Z",
     "iopub.status.busy": "2023-10-12T21:23:29.064824Z",
     "iopub.status.idle": "2023-10-12T21:25:42.859687Z",
     "shell.execute_reply": "2023-10-12T21:25:42.858677Z"
    },
    "papermill": {
     "duration": 133.804521,
     "end_time": "2023-10-12T21:25:42.862309",
     "exception": false,
     "start_time": "2023-10-12T21:23:29.057788",
     "status": "completed"
    },
    "tags": []
   },
   "outputs": [],
   "source": [
    "import math\n",
    "import geopandas as gpd\n",
    "import pandas as pd\n",
    "from shapely.geometry import MultiPolygon\n",
    "\n",
    "import folium\n",
    "from folium import Choropleth, Marker\n",
    "from folium.plugins import HeatMap, MarkerCluster\n",
    "\n",
    "from learntools.core import binder\n",
    "binder.bind(globals())\n",
    "from learntools.geospatial.ex5 import *"
   ]
  },
  {
   "cell_type": "markdown",
   "id": "cdb48a1e",
   "metadata": {
    "papermill": {
     "duration": 0.005648,
     "end_time": "2023-10-12T21:25:42.874086",
     "exception": false,
     "start_time": "2023-10-12T21:25:42.868438",
     "status": "completed"
    },
    "tags": []
   },
   "source": [
    "You'll use the `embed_map()` function to visualize your maps."
   ]
  },
  {
   "cell_type": "code",
   "execution_count": 2,
   "id": "f943fc12",
   "metadata": {
    "execution": {
     "iopub.execute_input": "2023-10-12T21:25:42.887130Z",
     "iopub.status.busy": "2023-10-12T21:25:42.886781Z",
     "iopub.status.idle": "2023-10-12T21:25:42.891592Z",
     "shell.execute_reply": "2023-10-12T21:25:42.890559Z"
    },
    "papermill": {
     "duration": 0.014072,
     "end_time": "2023-10-12T21:25:42.893889",
     "exception": false,
     "start_time": "2023-10-12T21:25:42.879817",
     "status": "completed"
    },
    "tags": []
   },
   "outputs": [],
   "source": [
    "def embed_map(m, file_name):\n",
    "    from IPython.display import IFrame\n",
    "    m.save(file_name)\n",
    "    return IFrame(file_name, width='100%', height='500px')"
   ]
  },
  {
   "cell_type": "markdown",
   "id": "c5ae5101",
   "metadata": {
    "papermill": {
     "duration": 0.005809,
     "end_time": "2023-10-12T21:25:42.905854",
     "exception": false,
     "start_time": "2023-10-12T21:25:42.900045",
     "status": "completed"
    },
    "tags": []
   },
   "source": [
    "# Exercises\n",
    "\n",
    "### 1) Visualize the collision data.\n",
    "\n",
    "Run the code cell below to load a GeoDataFrame `collisions` tracking major motor vehicle collisions in 2013-2018."
   ]
  },
  {
   "cell_type": "code",
   "execution_count": 3,
   "id": "6c0b59d3",
   "metadata": {
    "execution": {
     "iopub.execute_input": "2023-10-12T21:25:42.919326Z",
     "iopub.status.busy": "2023-10-12T21:25:42.918936Z",
     "iopub.status.idle": "2023-10-12T21:27:56.096637Z",
     "shell.execute_reply": "2023-10-12T21:27:56.095908Z"
    },
    "papermill": {
     "duration": 133.193589,
     "end_time": "2023-10-12T21:27:56.105349",
     "exception": false,
     "start_time": "2023-10-12T21:25:42.911760",
     "status": "completed"
    },
    "tags": []
   },
   "outputs": [
    {
     "data": {
      "text/html": [
       "<div>\n",
       "<style scoped>\n",
       "    .dataframe tbody tr th:only-of-type {\n",
       "        vertical-align: middle;\n",
       "    }\n",
       "\n",
       "    .dataframe tbody tr th {\n",
       "        vertical-align: top;\n",
       "    }\n",
       "\n",
       "    .dataframe thead th {\n",
       "        text-align: right;\n",
       "    }\n",
       "</style>\n",
       "<table border=\"1\" class=\"dataframe\">\n",
       "  <thead>\n",
       "    <tr style=\"text-align: right;\">\n",
       "      <th></th>\n",
       "      <th>DATE</th>\n",
       "      <th>TIME</th>\n",
       "      <th>BOROUGH</th>\n",
       "      <th>ZIP CODE</th>\n",
       "      <th>LATITUDE</th>\n",
       "      <th>LONGITUDE</th>\n",
       "      <th>LOCATION</th>\n",
       "      <th>ON STREET</th>\n",
       "      <th>CROSS STRE</th>\n",
       "      <th>OFF STREET</th>\n",
       "      <th>...</th>\n",
       "      <th>CONTRIBU_2</th>\n",
       "      <th>CONTRIBU_3</th>\n",
       "      <th>CONTRIBU_4</th>\n",
       "      <th>UNIQUE KEY</th>\n",
       "      <th>VEHICLE TY</th>\n",
       "      <th>VEHICLE _1</th>\n",
       "      <th>VEHICLE _2</th>\n",
       "      <th>VEHICLE _3</th>\n",
       "      <th>VEHICLE _4</th>\n",
       "      <th>geometry</th>\n",
       "    </tr>\n",
       "  </thead>\n",
       "  <tbody>\n",
       "    <tr>\n",
       "      <th>0</th>\n",
       "      <td>07/30/2019</td>\n",
       "      <td>0:00</td>\n",
       "      <td>BRONX</td>\n",
       "      <td>10464</td>\n",
       "      <td>40.841100</td>\n",
       "      <td>-73.784960</td>\n",
       "      <td>(40.8411, -73.78496)</td>\n",
       "      <td>NaN</td>\n",
       "      <td>NaN</td>\n",
       "      <td>121       PILOT STREET</td>\n",
       "      <td>...</td>\n",
       "      <td>Unspecified</td>\n",
       "      <td>NaN</td>\n",
       "      <td>NaN</td>\n",
       "      <td>4180045</td>\n",
       "      <td>Sedan</td>\n",
       "      <td>Station Wagon/Sport Utility Vehicle</td>\n",
       "      <td>Station Wagon/Sport Utility Vehicle</td>\n",
       "      <td>NaN</td>\n",
       "      <td>NaN</td>\n",
       "      <td>POINT (1043750.211 245785.815)</td>\n",
       "    </tr>\n",
       "    <tr>\n",
       "      <th>1</th>\n",
       "      <td>07/30/2019</td>\n",
       "      <td>0:10</td>\n",
       "      <td>QUEENS</td>\n",
       "      <td>11423</td>\n",
       "      <td>40.710827</td>\n",
       "      <td>-73.770660</td>\n",
       "      <td>(40.710827, -73.77066)</td>\n",
       "      <td>JAMAICA AVENUE</td>\n",
       "      <td>188 STREET</td>\n",
       "      <td>NaN</td>\n",
       "      <td>...</td>\n",
       "      <td>NaN</td>\n",
       "      <td>NaN</td>\n",
       "      <td>NaN</td>\n",
       "      <td>4180007</td>\n",
       "      <td>Sedan</td>\n",
       "      <td>Sedan</td>\n",
       "      <td>NaN</td>\n",
       "      <td>NaN</td>\n",
       "      <td>NaN</td>\n",
       "      <td>POINT (1047831.185 198333.171)</td>\n",
       "    </tr>\n",
       "    <tr>\n",
       "      <th>2</th>\n",
       "      <td>07/30/2019</td>\n",
       "      <td>0:25</td>\n",
       "      <td>NaN</td>\n",
       "      <td>NaN</td>\n",
       "      <td>40.880318</td>\n",
       "      <td>-73.841286</td>\n",
       "      <td>(40.880318, -73.841286)</td>\n",
       "      <td>BOSTON ROAD</td>\n",
       "      <td>NaN</td>\n",
       "      <td>NaN</td>\n",
       "      <td>...</td>\n",
       "      <td>NaN</td>\n",
       "      <td>NaN</td>\n",
       "      <td>NaN</td>\n",
       "      <td>4179575</td>\n",
       "      <td>Sedan</td>\n",
       "      <td>Station Wagon/Sport Utility Vehicle</td>\n",
       "      <td>NaN</td>\n",
       "      <td>NaN</td>\n",
       "      <td>NaN</td>\n",
       "      <td>POINT (1028139.293 260041.178)</td>\n",
       "    </tr>\n",
       "    <tr>\n",
       "      <th>3</th>\n",
       "      <td>07/30/2019</td>\n",
       "      <td>0:35</td>\n",
       "      <td>MANHATTAN</td>\n",
       "      <td>10036</td>\n",
       "      <td>40.756744</td>\n",
       "      <td>-73.984590</td>\n",
       "      <td>(40.756744, -73.98459)</td>\n",
       "      <td>NaN</td>\n",
       "      <td>NaN</td>\n",
       "      <td>155       WEST 44 STREET</td>\n",
       "      <td>...</td>\n",
       "      <td>NaN</td>\n",
       "      <td>NaN</td>\n",
       "      <td>NaN</td>\n",
       "      <td>4179544</td>\n",
       "      <td>Box Truck</td>\n",
       "      <td>Station Wagon/Sport Utility Vehicle</td>\n",
       "      <td>NaN</td>\n",
       "      <td>NaN</td>\n",
       "      <td>NaN</td>\n",
       "      <td>POINT (988519.261 214979.320)</td>\n",
       "    </tr>\n",
       "    <tr>\n",
       "      <th>4</th>\n",
       "      <td>07/30/2019</td>\n",
       "      <td>10:00</td>\n",
       "      <td>BROOKLYN</td>\n",
       "      <td>11223</td>\n",
       "      <td>40.600090</td>\n",
       "      <td>-73.965910</td>\n",
       "      <td>(40.60009, -73.96591)</td>\n",
       "      <td>AVENUE T</td>\n",
       "      <td>OCEAN PARKWAY</td>\n",
       "      <td>NaN</td>\n",
       "      <td>...</td>\n",
       "      <td>NaN</td>\n",
       "      <td>NaN</td>\n",
       "      <td>NaN</td>\n",
       "      <td>4180660</td>\n",
       "      <td>Station Wagon/Sport Utility Vehicle</td>\n",
       "      <td>Bike</td>\n",
       "      <td>NaN</td>\n",
       "      <td>NaN</td>\n",
       "      <td>NaN</td>\n",
       "      <td>POINT (993716.669 157907.212)</td>\n",
       "    </tr>\n",
       "  </tbody>\n",
       "</table>\n",
       "<p>5 rows × 30 columns</p>\n",
       "</div>"
      ],
      "text/plain": [
       "         DATE   TIME    BOROUGH ZIP CODE   LATITUDE  LONGITUDE  \\\n",
       "0  07/30/2019   0:00      BRONX    10464  40.841100 -73.784960   \n",
       "1  07/30/2019   0:10     QUEENS    11423  40.710827 -73.770660   \n",
       "2  07/30/2019   0:25        NaN      NaN  40.880318 -73.841286   \n",
       "3  07/30/2019   0:35  MANHATTAN    10036  40.756744 -73.984590   \n",
       "4  07/30/2019  10:00   BROOKLYN    11223  40.600090 -73.965910   \n",
       "\n",
       "                  LOCATION       ON STREET     CROSS STRE  \\\n",
       "0     (40.8411, -73.78496)             NaN            NaN   \n",
       "1   (40.710827, -73.77066)  JAMAICA AVENUE     188 STREET   \n",
       "2  (40.880318, -73.841286)     BOSTON ROAD            NaN   \n",
       "3   (40.756744, -73.98459)             NaN            NaN   \n",
       "4    (40.60009, -73.96591)        AVENUE T  OCEAN PARKWAY   \n",
       "\n",
       "                 OFF STREET  ...   CONTRIBU_2  CONTRIBU_3  CONTRIBU_4  \\\n",
       "0    121       PILOT STREET  ...  Unspecified         NaN         NaN   \n",
       "1                       NaN  ...          NaN         NaN         NaN   \n",
       "2                       NaN  ...          NaN         NaN         NaN   \n",
       "3  155       WEST 44 STREET  ...          NaN         NaN         NaN   \n",
       "4                       NaN  ...          NaN         NaN         NaN   \n",
       "\n",
       "   UNIQUE KEY                           VEHICLE TY  \\\n",
       "0     4180045                                Sedan   \n",
       "1     4180007                                Sedan   \n",
       "2     4179575                                Sedan   \n",
       "3     4179544                            Box Truck   \n",
       "4     4180660  Station Wagon/Sport Utility Vehicle   \n",
       "\n",
       "                            VEHICLE _1                           VEHICLE _2  \\\n",
       "0  Station Wagon/Sport Utility Vehicle  Station Wagon/Sport Utility Vehicle   \n",
       "1                                Sedan                                  NaN   \n",
       "2  Station Wagon/Sport Utility Vehicle                                  NaN   \n",
       "3  Station Wagon/Sport Utility Vehicle                                  NaN   \n",
       "4                                 Bike                                  NaN   \n",
       "\n",
       "   VEHICLE _3 VEHICLE _4                        geometry  \n",
       "0         NaN        NaN  POINT (1043750.211 245785.815)  \n",
       "1         NaN        NaN  POINT (1047831.185 198333.171)  \n",
       "2         NaN        NaN  POINT (1028139.293 260041.178)  \n",
       "3         NaN        NaN   POINT (988519.261 214979.320)  \n",
       "4         NaN        NaN   POINT (993716.669 157907.212)  \n",
       "\n",
       "[5 rows x 30 columns]"
      ]
     },
     "execution_count": 3,
     "metadata": {},
     "output_type": "execute_result"
    }
   ],
   "source": [
    "collisions = gpd.read_file(\"../input/geospatial-learn-course-data/NYPD_Motor_Vehicle_Collisions/NYPD_Motor_Vehicle_Collisions/NYPD_Motor_Vehicle_Collisions.shp\")\n",
    "collisions.head()"
   ]
  },
  {
   "cell_type": "markdown",
   "id": "58c55b6f",
   "metadata": {
    "papermill": {
     "duration": 0.005979,
     "end_time": "2023-10-12T21:27:56.118042",
     "exception": false,
     "start_time": "2023-10-12T21:27:56.112063",
     "status": "completed"
    },
    "tags": []
   },
   "source": [
    "Use the \"LATITUDE\" and \"LONGITUDE\" columns to create an interactive map to visualize the collision data.  What type of map do you think is most effective?"
   ]
  },
  {
   "cell_type": "code",
   "execution_count": 4,
   "id": "d980d6d8",
   "metadata": {
    "execution": {
     "iopub.execute_input": "2023-10-12T21:27:56.132712Z",
     "iopub.status.busy": "2023-10-12T21:27:56.132074Z",
     "iopub.status.idle": "2023-10-12T21:27:58.563435Z",
     "shell.execute_reply": "2023-10-12T21:27:58.562691Z"
    },
    "papermill": {
     "duration": 2.441496,
     "end_time": "2023-10-12T21:27:58.565751",
     "exception": false,
     "start_time": "2023-10-12T21:27:56.124255",
     "status": "completed"
    },
    "tags": []
   },
   "outputs": [
    {
     "data": {
      "text/html": [
       "\n",
       "        <iframe\n",
       "            width=\"100%\"\n",
       "            height=\"500px\"\n",
       "            src=\"q_1.html\"\n",
       "            frameborder=\"0\"\n",
       "            allowfullscreen\n",
       "            \n",
       "        ></iframe>\n",
       "        "
      ],
      "text/plain": [
       "<IPython.lib.display.IFrame at 0x7ca2b839eb60>"
      ]
     },
     "execution_count": 4,
     "metadata": {},
     "output_type": "execute_result"
    }
   ],
   "source": [
    "m_1 = folium.Map(location=[40.7, -74], zoom_start=11) \n",
    "\n",
    "# Your code here: Visualize the collision data\n",
    "HeatMap(data=collisions[['LATITUDE', 'LONGITUDE']], radius=9).add_to(m_1)\n",
    "\n",
    "\n",
    "# Uncomment to see a hint\n",
    "#q_1.hint()\n",
    "\n",
    "# Show the map\n",
    "embed_map(m_1, \"q_1.html\")"
   ]
  },
  {
   "cell_type": "code",
   "execution_count": 5,
   "id": "f14ac02c",
   "metadata": {
    "execution": {
     "iopub.execute_input": "2023-10-12T21:27:58.580632Z",
     "iopub.status.busy": "2023-10-12T21:27:58.580057Z",
     "iopub.status.idle": "2023-10-12T21:27:58.588242Z",
     "shell.execute_reply": "2023-10-12T21:27:58.587163Z"
    },
    "papermill": {
     "duration": 0.017776,
     "end_time": "2023-10-12T21:27:58.590274",
     "exception": false,
     "start_time": "2023-10-12T21:27:58.572498",
     "status": "completed"
    },
    "tags": []
   },
   "outputs": [
    {
     "data": {
      "application/javascript": [
       "parent.postMessage({\"jupyterEvent\": \"custom.exercise_interaction\", \"data\": {\"outcomeType\": 1, \"valueTowardsCompletion\": 0.16666666666666666, \"interactionType\": 1, \"questionType\": 2, \"questionId\": \"1_Q1\", \"learnToolsVersion\": \"0.3.4\", \"failureMessage\": \"\", \"exceptionClass\": \"\", \"trace\": \"\"}}, \"*\")"
      ],
      "text/plain": [
       "<IPython.core.display.Javascript object>"
      ]
     },
     "metadata": {},
     "output_type": "display_data"
    },
    {
     "data": {
      "text/markdown": [
       "<span style=\"color:#33cc33\">Thank you for creating a map!</span>"
      ],
      "text/plain": [
       "Thank you for creating a map!"
      ]
     },
     "metadata": {},
     "output_type": "display_data"
    }
   ],
   "source": [
    "# Get credit for your work after you have created a map\n",
    "q_1.check()\n",
    "\n",
    "# Uncomment to see our solution (your code may look different!)\n",
    "#q_1.solution()"
   ]
  },
  {
   "cell_type": "markdown",
   "id": "4a409313",
   "metadata": {
    "papermill": {
     "duration": 0.006323,
     "end_time": "2023-10-12T21:27:58.603043",
     "exception": false,
     "start_time": "2023-10-12T21:27:58.596720",
     "status": "completed"
    },
    "tags": []
   },
   "source": [
    "### 2) Understand hospital coverage.\n",
    "\n",
    "Run the next code cell to load the hospital data."
   ]
  },
  {
   "cell_type": "code",
   "execution_count": 6,
   "id": "6a602381",
   "metadata": {
    "execution": {
     "iopub.execute_input": "2023-10-12T21:27:58.617535Z",
     "iopub.status.busy": "2023-10-12T21:27:58.616965Z",
     "iopub.status.idle": "2023-10-12T21:27:58.908513Z",
     "shell.execute_reply": "2023-10-12T21:27:58.907527Z"
    },
    "papermill": {
     "duration": 0.301395,
     "end_time": "2023-10-12T21:27:58.910689",
     "exception": false,
     "start_time": "2023-10-12T21:27:58.609294",
     "status": "completed"
    },
    "tags": []
   },
   "outputs": [
    {
     "data": {
      "text/html": [
       "<div>\n",
       "<style scoped>\n",
       "    .dataframe tbody tr th:only-of-type {\n",
       "        vertical-align: middle;\n",
       "    }\n",
       "\n",
       "    .dataframe tbody tr th {\n",
       "        vertical-align: top;\n",
       "    }\n",
       "\n",
       "    .dataframe thead th {\n",
       "        text-align: right;\n",
       "    }\n",
       "</style>\n",
       "<table border=\"1\" class=\"dataframe\">\n",
       "  <thead>\n",
       "    <tr style=\"text-align: right;\">\n",
       "      <th></th>\n",
       "      <th>id</th>\n",
       "      <th>name</th>\n",
       "      <th>address</th>\n",
       "      <th>zip</th>\n",
       "      <th>factype</th>\n",
       "      <th>facname</th>\n",
       "      <th>capacity</th>\n",
       "      <th>capname</th>\n",
       "      <th>bcode</th>\n",
       "      <th>xcoord</th>\n",
       "      <th>ycoord</th>\n",
       "      <th>latitude</th>\n",
       "      <th>longitude</th>\n",
       "      <th>geometry</th>\n",
       "    </tr>\n",
       "  </thead>\n",
       "  <tbody>\n",
       "    <tr>\n",
       "      <th>0</th>\n",
       "      <td>317000001H1178</td>\n",
       "      <td>BRONX-LEBANON HOSPITAL CENTER - CONCOURSE DIVI...</td>\n",
       "      <td>1650 Grand Concourse</td>\n",
       "      <td>10457</td>\n",
       "      <td>3102</td>\n",
       "      <td>Hospital</td>\n",
       "      <td>415</td>\n",
       "      <td>Beds</td>\n",
       "      <td>36005</td>\n",
       "      <td>1008872.0</td>\n",
       "      <td>246596.0</td>\n",
       "      <td>40.843490</td>\n",
       "      <td>-73.911010</td>\n",
       "      <td>POINT (1008872.000 246596.000)</td>\n",
       "    </tr>\n",
       "    <tr>\n",
       "      <th>1</th>\n",
       "      <td>317000001H1164</td>\n",
       "      <td>BRONX-LEBANON HOSPITAL CENTER - FULTON DIVISION</td>\n",
       "      <td>1276 Fulton Ave</td>\n",
       "      <td>10456</td>\n",
       "      <td>3102</td>\n",
       "      <td>Hospital</td>\n",
       "      <td>164</td>\n",
       "      <td>Beds</td>\n",
       "      <td>36005</td>\n",
       "      <td>1011044.0</td>\n",
       "      <td>242204.0</td>\n",
       "      <td>40.831429</td>\n",
       "      <td>-73.903178</td>\n",
       "      <td>POINT (1011044.000 242204.000)</td>\n",
       "    </tr>\n",
       "    <tr>\n",
       "      <th>2</th>\n",
       "      <td>317000011H1175</td>\n",
       "      <td>CALVARY HOSPITAL INC</td>\n",
       "      <td>1740-70 Eastchester Rd</td>\n",
       "      <td>10461</td>\n",
       "      <td>3102</td>\n",
       "      <td>Hospital</td>\n",
       "      <td>225</td>\n",
       "      <td>Beds</td>\n",
       "      <td>36005</td>\n",
       "      <td>1027505.0</td>\n",
       "      <td>248287.0</td>\n",
       "      <td>40.848060</td>\n",
       "      <td>-73.843656</td>\n",
       "      <td>POINT (1027505.000 248287.000)</td>\n",
       "    </tr>\n",
       "    <tr>\n",
       "      <th>3</th>\n",
       "      <td>317000002H1165</td>\n",
       "      <td>JACOBI MEDICAL CENTER</td>\n",
       "      <td>1400 Pelham Pkwy</td>\n",
       "      <td>10461</td>\n",
       "      <td>3102</td>\n",
       "      <td>Hospital</td>\n",
       "      <td>457</td>\n",
       "      <td>Beds</td>\n",
       "      <td>36005</td>\n",
       "      <td>1027042.0</td>\n",
       "      <td>251065.0</td>\n",
       "      <td>40.855687</td>\n",
       "      <td>-73.845311</td>\n",
       "      <td>POINT (1027042.000 251065.000)</td>\n",
       "    </tr>\n",
       "    <tr>\n",
       "      <th>4</th>\n",
       "      <td>317000008H1172</td>\n",
       "      <td>LINCOLN MEDICAL &amp; MENTAL HEALTH CENTER</td>\n",
       "      <td>234 E 149 St</td>\n",
       "      <td>10451</td>\n",
       "      <td>3102</td>\n",
       "      <td>Hospital</td>\n",
       "      <td>362</td>\n",
       "      <td>Beds</td>\n",
       "      <td>36005</td>\n",
       "      <td>1005154.0</td>\n",
       "      <td>236853.0</td>\n",
       "      <td>40.816758</td>\n",
       "      <td>-73.924478</td>\n",
       "      <td>POINT (1005154.000 236853.000)</td>\n",
       "    </tr>\n",
       "  </tbody>\n",
       "</table>\n",
       "</div>"
      ],
      "text/plain": [
       "               id                                               name  \\\n",
       "0  317000001H1178  BRONX-LEBANON HOSPITAL CENTER - CONCOURSE DIVI...   \n",
       "1  317000001H1164    BRONX-LEBANON HOSPITAL CENTER - FULTON DIVISION   \n",
       "2  317000011H1175                               CALVARY HOSPITAL INC   \n",
       "3  317000002H1165                              JACOBI MEDICAL CENTER   \n",
       "4  317000008H1172             LINCOLN MEDICAL & MENTAL HEALTH CENTER   \n",
       "\n",
       "                  address    zip factype   facname capacity capname  bcode  \\\n",
       "0    1650 Grand Concourse  10457    3102  Hospital      415    Beds  36005   \n",
       "1         1276 Fulton Ave  10456    3102  Hospital      164    Beds  36005   \n",
       "2  1740-70 Eastchester Rd  10461    3102  Hospital      225    Beds  36005   \n",
       "3        1400 Pelham Pkwy  10461    3102  Hospital      457    Beds  36005   \n",
       "4            234 E 149 St  10451    3102  Hospital      362    Beds  36005   \n",
       "\n",
       "      xcoord    ycoord   latitude  longitude                        geometry  \n",
       "0  1008872.0  246596.0  40.843490 -73.911010  POINT (1008872.000 246596.000)  \n",
       "1  1011044.0  242204.0  40.831429 -73.903178  POINT (1011044.000 242204.000)  \n",
       "2  1027505.0  248287.0  40.848060 -73.843656  POINT (1027505.000 248287.000)  \n",
       "3  1027042.0  251065.0  40.855687 -73.845311  POINT (1027042.000 251065.000)  \n",
       "4  1005154.0  236853.0  40.816758 -73.924478  POINT (1005154.000 236853.000)  "
      ]
     },
     "execution_count": 6,
     "metadata": {},
     "output_type": "execute_result"
    }
   ],
   "source": [
    "hospitals = gpd.read_file(\"../input/geospatial-learn-course-data/nyu_2451_34494/nyu_2451_34494/nyu_2451_34494.shp\")\n",
    "hospitals.head()"
   ]
  },
  {
   "cell_type": "markdown",
   "id": "933567b0",
   "metadata": {
    "papermill": {
     "duration": 0.00636,
     "end_time": "2023-10-12T21:27:58.923908",
     "exception": false,
     "start_time": "2023-10-12T21:27:58.917548",
     "status": "completed"
    },
    "tags": []
   },
   "source": [
    "Use the \"latitude\" and \"longitude\" columns to visualize the hospital locations. "
   ]
  },
  {
   "cell_type": "code",
   "execution_count": 7,
   "id": "72f7e9ca",
   "metadata": {
    "execution": {
     "iopub.execute_input": "2023-10-12T21:27:58.938822Z",
     "iopub.status.busy": "2023-10-12T21:27:58.938465Z",
     "iopub.status.idle": "2023-10-12T21:28:02.046675Z",
     "shell.execute_reply": "2023-10-12T21:28:02.045670Z"
    },
    "papermill": {
     "duration": 3.11861,
     "end_time": "2023-10-12T21:28:02.049026",
     "exception": false,
     "start_time": "2023-10-12T21:27:58.930416",
     "status": "completed"
    },
    "tags": []
   },
   "outputs": [
    {
     "data": {
      "text/html": [
       "\n",
       "        <iframe\n",
       "            width=\"100%\"\n",
       "            height=\"500px\"\n",
       "            src=\"q_2.html\"\n",
       "            frameborder=\"0\"\n",
       "            allowfullscreen\n",
       "            \n",
       "        ></iframe>\n",
       "        "
      ],
      "text/plain": [
       "<IPython.lib.display.IFrame at 0x7ca2b839fdf0>"
      ]
     },
     "execution_count": 7,
     "metadata": {},
     "output_type": "execute_result"
    }
   ],
   "source": [
    "m_2 = folium.Map(location=[40.7, -74], zoom_start=11) \n",
    "\n",
    "# Your code here: Visualize the hospital locations\n",
    "HeatMap(data=collisions[['LATITUDE', 'LONGITUDE']], radius=9).add_to(m_2)\n",
    "\n",
    "# Uncomment to see a hint\n",
    "#q_2.hint()\n",
    "        \n",
    "# Show the map\n",
    "embed_map(m_2, \"q_2.html\")"
   ]
  },
  {
   "cell_type": "code",
   "execution_count": 8,
   "id": "9016a0e2",
   "metadata": {
    "execution": {
     "iopub.execute_input": "2023-10-12T21:28:02.064159Z",
     "iopub.status.busy": "2023-10-12T21:28:02.063696Z",
     "iopub.status.idle": "2023-10-12T21:28:02.071885Z",
     "shell.execute_reply": "2023-10-12T21:28:02.070904Z"
    },
    "papermill": {
     "duration": 0.017899,
     "end_time": "2023-10-12T21:28:02.073693",
     "exception": false,
     "start_time": "2023-10-12T21:28:02.055794",
     "status": "completed"
    },
    "tags": []
   },
   "outputs": [
    {
     "data": {
      "application/javascript": [
       "parent.postMessage({\"jupyterEvent\": \"custom.exercise_interaction\", \"data\": {\"outcomeType\": 1, \"valueTowardsCompletion\": 0.16666666666666666, \"interactionType\": 1, \"questionType\": 2, \"questionId\": \"2_Q2\", \"learnToolsVersion\": \"0.3.4\", \"failureMessage\": \"\", \"exceptionClass\": \"\", \"trace\": \"\"}}, \"*\")"
      ],
      "text/plain": [
       "<IPython.core.display.Javascript object>"
      ]
     },
     "metadata": {},
     "output_type": "display_data"
    },
    {
     "data": {
      "text/markdown": [
       "<span style=\"color:#33cc33\">Thank you for creating a map!</span>"
      ],
      "text/plain": [
       "Thank you for creating a map!"
      ]
     },
     "metadata": {},
     "output_type": "display_data"
    }
   ],
   "source": [
    "# Get credit for your work after you have created a map\n",
    "q_2.check()\n",
    "\n",
    "# Uncomment to see our solution (your code may look different!)\n",
    "#q_2.solution()"
   ]
  },
  {
   "cell_type": "markdown",
   "id": "caf26767",
   "metadata": {
    "papermill": {
     "duration": 0.006988,
     "end_time": "2023-10-12T21:28:02.087648",
     "exception": false,
     "start_time": "2023-10-12T21:28:02.080660",
     "status": "completed"
    },
    "tags": []
   },
   "source": [
    "### 3) When was the closest hospital more than 10 kilometers away?\n",
    "\n",
    "Create a DataFrame `outside_range` containing all rows from `collisions` with crashes that occurred more than 10 kilometers from the closest hospital.\n",
    "\n",
    "Note that both `hospitals` and `collisions` have EPSG 2263 as the coordinate reference system, and EPSG 2263 has units of meters."
   ]
  },
  {
   "cell_type": "code",
   "execution_count": 9,
   "id": "34d1c078",
   "metadata": {
    "execution": {
     "iopub.execute_input": "2023-10-12T21:28:02.103377Z",
     "iopub.status.busy": "2023-10-12T21:28:02.103057Z",
     "iopub.status.idle": "2023-10-12T21:28:39.319065Z",
     "shell.execute_reply": "2023-10-12T21:28:39.317951Z"
    },
    "papermill": {
     "duration": 37.23152,
     "end_time": "2023-10-12T21:28:39.326383",
     "exception": false,
     "start_time": "2023-10-12T21:28:02.094863",
     "status": "completed"
    },
    "tags": []
   },
   "outputs": [
    {
     "data": {
      "application/javascript": [
       "parent.postMessage({\"jupyterEvent\": \"custom.exercise_interaction\", \"data\": {\"outcomeType\": 1, \"valueTowardsCompletion\": 0.16666666666666666, \"interactionType\": 1, \"questionType\": 2, \"questionId\": \"3_Q3\", \"learnToolsVersion\": \"0.3.4\", \"failureMessage\": \"\", \"exceptionClass\": \"\", \"trace\": \"\"}}, \"*\")"
      ],
      "text/plain": [
       "<IPython.core.display.Javascript object>"
      ]
     },
     "metadata": {},
     "output_type": "display_data"
    },
    {
     "data": {
      "text/markdown": [
       "<span style=\"color:#33cc33\">Correct</span>"
      ],
      "text/plain": [
       "Correct"
      ]
     },
     "metadata": {},
     "output_type": "display_data"
    }
   ],
   "source": [
    "# Your code here\n",
    "df_buffer = hospitals.geometry.buffer(10000)\n",
    "my_union = df_buffer.geometry.unary_union\n",
    "outside_range = collisions.loc[~collisions[\"geometry\"].apply(lambda x: my_union.contains(x))]\n",
    "\n",
    "# Check your answer\n",
    "q_3.check()"
   ]
  },
  {
   "cell_type": "code",
   "execution_count": 10,
   "id": "bded6a99",
   "metadata": {
    "execution": {
     "iopub.execute_input": "2023-10-12T21:28:39.342157Z",
     "iopub.status.busy": "2023-10-12T21:28:39.341809Z",
     "iopub.status.idle": "2023-10-12T21:28:39.345983Z",
     "shell.execute_reply": "2023-10-12T21:28:39.344963Z"
    },
    "papermill": {
     "duration": 0.014591,
     "end_time": "2023-10-12T21:28:39.348098",
     "exception": false,
     "start_time": "2023-10-12T21:28:39.333507",
     "status": "completed"
    },
    "tags": []
   },
   "outputs": [],
   "source": [
    "# Lines below will give you a hint or solution code\n",
    "#q_3.hint()\n",
    "#q_3.solution()"
   ]
  },
  {
   "cell_type": "markdown",
   "id": "addba788",
   "metadata": {
    "papermill": {
     "duration": 0.006936,
     "end_time": "2023-10-12T21:28:39.362381",
     "exception": false,
     "start_time": "2023-10-12T21:28:39.355445",
     "status": "completed"
    },
    "tags": []
   },
   "source": [
    "The next code cell calculates the percentage of collisions that occurred more than 10 kilometers away from the closest hospital."
   ]
  },
  {
   "cell_type": "code",
   "execution_count": 11,
   "id": "252811b5",
   "metadata": {
    "execution": {
     "iopub.execute_input": "2023-10-12T21:28:39.378986Z",
     "iopub.status.busy": "2023-10-12T21:28:39.378381Z",
     "iopub.status.idle": "2023-10-12T21:28:39.383551Z",
     "shell.execute_reply": "2023-10-12T21:28:39.382628Z"
    },
    "papermill": {
     "duration": 0.015788,
     "end_time": "2023-10-12T21:28:39.385347",
     "exception": false,
     "start_time": "2023-10-12T21:28:39.369559",
     "status": "completed"
    },
    "tags": []
   },
   "outputs": [
    {
     "name": "stdout",
     "output_type": "stream",
     "text": [
      "Percentage of collisions more than 10 km away from the closest hospital: 15.12%\n"
     ]
    }
   ],
   "source": [
    "percentage = round(100*len(outside_range)/len(collisions), 2)\n",
    "print(\"Percentage of collisions more than 10 km away from the closest hospital: {}%\".format(percentage))"
   ]
  },
  {
   "cell_type": "markdown",
   "id": "7dd59a03",
   "metadata": {
    "papermill": {
     "duration": 0.007151,
     "end_time": "2023-10-12T21:28:39.400051",
     "exception": false,
     "start_time": "2023-10-12T21:28:39.392900",
     "status": "completed"
    },
    "tags": []
   },
   "source": [
    "### 4) Make a recommender.\n",
    "\n",
    "When collisions occur in distant locations, it becomes even more vital that injured persons are transported to the nearest available hospital.\n",
    "\n",
    "With this in mind, you decide to create a recommender that:\n",
    "- takes the location of the crash (in EPSG 2263) as input,\n",
    "- finds the closest hospital (where distance calculations are done in EPSG 2263), and \n",
    "- returns the name of the closest hospital. "
   ]
  },
  {
   "cell_type": "code",
   "execution_count": 12,
   "id": "ae67626d",
   "metadata": {
    "execution": {
     "iopub.execute_input": "2023-10-12T21:28:39.417224Z",
     "iopub.status.busy": "2023-10-12T21:28:39.416332Z",
     "iopub.status.idle": "2023-10-12T21:28:39.429976Z",
     "shell.execute_reply": "2023-10-12T21:28:39.429241Z"
    },
    "papermill": {
     "duration": 0.024296,
     "end_time": "2023-10-12T21:28:39.431779",
     "exception": false,
     "start_time": "2023-10-12T21:28:39.407483",
     "status": "completed"
    },
    "tags": []
   },
   "outputs": [
    {
     "name": "stdout",
     "output_type": "stream",
     "text": [
      "CALVARY HOSPITAL INC\n"
     ]
    },
    {
     "data": {
      "application/javascript": [
       "parent.postMessage({\"jupyterEvent\": \"custom.exercise_interaction\", \"data\": {\"outcomeType\": 1, \"valueTowardsCompletion\": 0.16666666666666666, \"interactionType\": 1, \"questionType\": 2, \"questionId\": \"4_Q4\", \"learnToolsVersion\": \"0.3.4\", \"failureMessage\": \"\", \"exceptionClass\": \"\", \"trace\": \"\"}}, \"*\")"
      ],
      "text/plain": [
       "<IPython.core.display.Javascript object>"
      ]
     },
     "metadata": {},
     "output_type": "display_data"
    },
    {
     "data": {
      "text/markdown": [
       "<span style=\"color:#33cc33\">Correct</span>"
      ],
      "text/plain": [
       "Correct"
      ]
     },
     "metadata": {},
     "output_type": "display_data"
    }
   ],
   "source": [
    "def best_hospital(collision_location):\n",
    "    # Your code here\n",
    "    dist_min = hospitals.geometry.distance(collision_location).idxmin()\n",
    "    hospital_min = hospitals.iloc[dist_min]\n",
    "    name = hospital_min['name']\n",
    "    return name\n",
    "\n",
    "# Test your function: this should suggest CALVARY HOSPITAL INC\n",
    "print(best_hospital(outside_range.geometry.iloc[0]))\n",
    "\n",
    "# Check your answer\n",
    "q_4.check()"
   ]
  },
  {
   "cell_type": "code",
   "execution_count": 13,
   "id": "8580c01d",
   "metadata": {
    "execution": {
     "iopub.execute_input": "2023-10-12T21:28:39.449836Z",
     "iopub.status.busy": "2023-10-12T21:28:39.449222Z",
     "iopub.status.idle": "2023-10-12T21:28:39.453278Z",
     "shell.execute_reply": "2023-10-12T21:28:39.452541Z"
    },
    "papermill": {
     "duration": 0.015097,
     "end_time": "2023-10-12T21:28:39.455157",
     "exception": false,
     "start_time": "2023-10-12T21:28:39.440060",
     "status": "completed"
    },
    "tags": []
   },
   "outputs": [],
   "source": [
    "# Lines below will give you a hint or solution code\n",
    "#q_4.hint()\n",
    "#q_4.solution()"
   ]
  },
  {
   "cell_type": "markdown",
   "id": "cd2311e7",
   "metadata": {
    "papermill": {
     "duration": 0.007204,
     "end_time": "2023-10-12T21:28:39.470083",
     "exception": false,
     "start_time": "2023-10-12T21:28:39.462879",
     "status": "completed"
    },
    "tags": []
   },
   "source": [
    "### 5) Which hospital is under the highest demand?\n",
    "\n",
    "Considering only collisions in the `outside_range` DataFrame, which hospital is most recommended?  \n",
    "\n",
    "Your answer should be a Python string that exactly matches the name of the hospital returned by the function you created in **4)**."
   ]
  },
  {
   "cell_type": "code",
   "execution_count": 14,
   "id": "40e899cc",
   "metadata": {
    "execution": {
     "iopub.execute_input": "2023-10-12T21:28:39.487418Z",
     "iopub.status.busy": "2023-10-12T21:28:39.486713Z",
     "iopub.status.idle": "2023-10-12T21:28:39.614786Z",
     "shell.execute_reply": "2023-10-12T21:28:39.613755Z"
    },
    "papermill": {
     "duration": 0.139319,
     "end_time": "2023-10-12T21:28:39.617053",
     "exception": false,
     "start_time": "2023-10-12T21:28:39.477734",
     "status": "completed"
    },
    "tags": []
   },
   "outputs": [
    {
     "data": {
      "text/html": [
       "<div>\n",
       "<style scoped>\n",
       "    .dataframe tbody tr th:only-of-type {\n",
       "        vertical-align: middle;\n",
       "    }\n",
       "\n",
       "    .dataframe tbody tr th {\n",
       "        vertical-align: top;\n",
       "    }\n",
       "\n",
       "    .dataframe thead th {\n",
       "        text-align: right;\n",
       "    }\n",
       "</style>\n",
       "<table border=\"1\" class=\"dataframe\">\n",
       "  <thead>\n",
       "    <tr style=\"text-align: right;\">\n",
       "      <th></th>\n",
       "      <th>DATE</th>\n",
       "      <th>TIME</th>\n",
       "      <th>BOROUGH</th>\n",
       "      <th>ZIP CODE</th>\n",
       "      <th>LATITUDE</th>\n",
       "      <th>LONGITUDE</th>\n",
       "      <th>LOCATION</th>\n",
       "      <th>ON STREET</th>\n",
       "      <th>CROSS STRE</th>\n",
       "      <th>OFF STREET</th>\n",
       "      <th>...</th>\n",
       "      <th>CONTRIBU_2</th>\n",
       "      <th>CONTRIBU_3</th>\n",
       "      <th>CONTRIBU_4</th>\n",
       "      <th>UNIQUE KEY</th>\n",
       "      <th>VEHICLE TY</th>\n",
       "      <th>VEHICLE _1</th>\n",
       "      <th>VEHICLE _2</th>\n",
       "      <th>VEHICLE _3</th>\n",
       "      <th>VEHICLE _4</th>\n",
       "      <th>geometry</th>\n",
       "    </tr>\n",
       "  </thead>\n",
       "  <tbody>\n",
       "    <tr>\n",
       "      <th>0</th>\n",
       "      <td>07/30/2019</td>\n",
       "      <td>0:00</td>\n",
       "      <td>BRONX</td>\n",
       "      <td>10464</td>\n",
       "      <td>40.841100</td>\n",
       "      <td>-73.784960</td>\n",
       "      <td>(40.8411, -73.78496)</td>\n",
       "      <td>NaN</td>\n",
       "      <td>NaN</td>\n",
       "      <td>121       PILOT STREET</td>\n",
       "      <td>...</td>\n",
       "      <td>Unspecified</td>\n",
       "      <td>NaN</td>\n",
       "      <td>NaN</td>\n",
       "      <td>4180045</td>\n",
       "      <td>Sedan</td>\n",
       "      <td>Station Wagon/Sport Utility Vehicle</td>\n",
       "      <td>Station Wagon/Sport Utility Vehicle</td>\n",
       "      <td>NaN</td>\n",
       "      <td>NaN</td>\n",
       "      <td>POINT (1043750.211 245785.815)</td>\n",
       "    </tr>\n",
       "    <tr>\n",
       "      <th>1</th>\n",
       "      <td>07/30/2019</td>\n",
       "      <td>0:10</td>\n",
       "      <td>QUEENS</td>\n",
       "      <td>11423</td>\n",
       "      <td>40.710827</td>\n",
       "      <td>-73.770660</td>\n",
       "      <td>(40.710827, -73.77066)</td>\n",
       "      <td>JAMAICA AVENUE</td>\n",
       "      <td>188 STREET</td>\n",
       "      <td>NaN</td>\n",
       "      <td>...</td>\n",
       "      <td>NaN</td>\n",
       "      <td>NaN</td>\n",
       "      <td>NaN</td>\n",
       "      <td>4180007</td>\n",
       "      <td>Sedan</td>\n",
       "      <td>Sedan</td>\n",
       "      <td>NaN</td>\n",
       "      <td>NaN</td>\n",
       "      <td>NaN</td>\n",
       "      <td>POINT (1047831.185 198333.171)</td>\n",
       "    </tr>\n",
       "    <tr>\n",
       "      <th>5</th>\n",
       "      <td>07/30/2019</td>\n",
       "      <td>10:50</td>\n",
       "      <td>QUEENS</td>\n",
       "      <td>11423</td>\n",
       "      <td>40.721060</td>\n",
       "      <td>-73.759450</td>\n",
       "      <td>(40.72106, -73.75945)</td>\n",
       "      <td>FRANCIS LEWIS BOULEVARD</td>\n",
       "      <td>HILLSIDE AVENUE</td>\n",
       "      <td>NaN</td>\n",
       "      <td>...</td>\n",
       "      <td>NaN</td>\n",
       "      <td>NaN</td>\n",
       "      <td>NaN</td>\n",
       "      <td>4179812</td>\n",
       "      <td>Sedan</td>\n",
       "      <td>Box Truck</td>\n",
       "      <td>NaN</td>\n",
       "      <td>NaN</td>\n",
       "      <td>NaN</td>\n",
       "      <td>POINT (1050928.749 202069.687)</td>\n",
       "    </tr>\n",
       "    <tr>\n",
       "      <th>6</th>\n",
       "      <td>07/30/2019</td>\n",
       "      <td>10:55</td>\n",
       "      <td>QUEENS</td>\n",
       "      <td>11434</td>\n",
       "      <td>40.676228</td>\n",
       "      <td>-73.761120</td>\n",
       "      <td>(40.676228, -73.76112)</td>\n",
       "      <td>CRANDALL AVENUE</td>\n",
       "      <td>CHENEY STREET</td>\n",
       "      <td>NaN</td>\n",
       "      <td>...</td>\n",
       "      <td>NaN</td>\n",
       "      <td>NaN</td>\n",
       "      <td>NaN</td>\n",
       "      <td>4180464</td>\n",
       "      <td>Station Wagon/Sport Utility Vehicle</td>\n",
       "      <td>Station Wagon/Sport Utility Vehicle</td>\n",
       "      <td>NaN</td>\n",
       "      <td>NaN</td>\n",
       "      <td>NaN</td>\n",
       "      <td>POINT (1050510.380 185734.852)</td>\n",
       "    </tr>\n",
       "    <tr>\n",
       "      <th>15</th>\n",
       "      <td>07/30/2019</td>\n",
       "      <td>13:05</td>\n",
       "      <td>NaN</td>\n",
       "      <td>NaN</td>\n",
       "      <td>40.588413</td>\n",
       "      <td>-74.166725</td>\n",
       "      <td>(40.588413, -74.166725)</td>\n",
       "      <td>NaN</td>\n",
       "      <td>NaN</td>\n",
       "      <td>26        RICHMOND HILL ROAD</td>\n",
       "      <td>...</td>\n",
       "      <td>NaN</td>\n",
       "      <td>NaN</td>\n",
       "      <td>NaN</td>\n",
       "      <td>4180091</td>\n",
       "      <td>Station Wagon/Sport Utility Vehicle</td>\n",
       "      <td>Box Truck</td>\n",
       "      <td>NaN</td>\n",
       "      <td>NaN</td>\n",
       "      <td>NaN</td>\n",
       "      <td>POINT (937943.004 153695.210)</td>\n",
       "    </tr>\n",
       "    <tr>\n",
       "      <th>...</th>\n",
       "      <td>...</td>\n",
       "      <td>...</td>\n",
       "      <td>...</td>\n",
       "      <td>...</td>\n",
       "      <td>...</td>\n",
       "      <td>...</td>\n",
       "      <td>...</td>\n",
       "      <td>...</td>\n",
       "      <td>...</td>\n",
       "      <td>...</td>\n",
       "      <td>...</td>\n",
       "      <td>...</td>\n",
       "      <td>...</td>\n",
       "      <td>...</td>\n",
       "      <td>...</td>\n",
       "      <td>...</td>\n",
       "      <td>...</td>\n",
       "      <td>...</td>\n",
       "      <td>...</td>\n",
       "      <td>...</td>\n",
       "      <td>...</td>\n",
       "    </tr>\n",
       "    <tr>\n",
       "      <th>261853</th>\n",
       "      <td>07/01/2012</td>\n",
       "      <td>18:36</td>\n",
       "      <td>QUEENS</td>\n",
       "      <td>11420</td>\n",
       "      <td>40.672278</td>\n",
       "      <td>-73.804492</td>\n",
       "      <td>(40.6722782, -73.8044924)</td>\n",
       "      <td>SUTTER AVENUE</td>\n",
       "      <td>134 STREET</td>\n",
       "      <td>NaN</td>\n",
       "      <td>...</td>\n",
       "      <td>NaN</td>\n",
       "      <td>NaN</td>\n",
       "      <td>NaN</td>\n",
       "      <td>227949</td>\n",
       "      <td>PASSENGER VEHICLE</td>\n",
       "      <td>PASSENGER VEHICLE</td>\n",
       "      <td>NaN</td>\n",
       "      <td>NaN</td>\n",
       "      <td>NaN</td>\n",
       "      <td>POINT (1038483.006 184266.001)</td>\n",
       "    </tr>\n",
       "    <tr>\n",
       "      <th>261856</th>\n",
       "      <td>07/01/2012</td>\n",
       "      <td>19:00</td>\n",
       "      <td>QUEENS</td>\n",
       "      <td>11434</td>\n",
       "      <td>40.659651</td>\n",
       "      <td>-73.773828</td>\n",
       "      <td>(40.6596509, -73.7738282)</td>\n",
       "      <td>ROCKAWAY BOULEVARD</td>\n",
       "      <td>FARMERS BOULEVARD</td>\n",
       "      <td>NaN</td>\n",
       "      <td>...</td>\n",
       "      <td>NaN</td>\n",
       "      <td>NaN</td>\n",
       "      <td>NaN</td>\n",
       "      <td>219402</td>\n",
       "      <td>PASSENGER VEHICLE</td>\n",
       "      <td>PASSENGER VEHICLE</td>\n",
       "      <td>NaN</td>\n",
       "      <td>NaN</td>\n",
       "      <td>NaN</td>\n",
       "      <td>POINT (1047000.990 179686.009)</td>\n",
       "    </tr>\n",
       "    <tr>\n",
       "      <th>261888</th>\n",
       "      <td>07/01/2012</td>\n",
       "      <td>4:31</td>\n",
       "      <td>NaN</td>\n",
       "      <td>NaN</td>\n",
       "      <td>40.665277</td>\n",
       "      <td>-73.829544</td>\n",
       "      <td>(40.6652772, -73.8295439)</td>\n",
       "      <td>NaN</td>\n",
       "      <td>NaN</td>\n",
       "      <td>NaN</td>\n",
       "      <td>...</td>\n",
       "      <td>NaN</td>\n",
       "      <td>NaN</td>\n",
       "      <td>NaN</td>\n",
       "      <td>3023332</td>\n",
       "      <td>PASSENGER VEHICLE</td>\n",
       "      <td>NaN</td>\n",
       "      <td>NaN</td>\n",
       "      <td>NaN</td>\n",
       "      <td>NaN</td>\n",
       "      <td>POINT (1031538.795 181700.828)</td>\n",
       "    </tr>\n",
       "    <tr>\n",
       "      <th>261896</th>\n",
       "      <td>07/01/2012</td>\n",
       "      <td>6:30</td>\n",
       "      <td>NaN</td>\n",
       "      <td>NaN</td>\n",
       "      <td>40.674954</td>\n",
       "      <td>-73.802036</td>\n",
       "      <td>(40.6749541, -73.8020355)</td>\n",
       "      <td>NaN</td>\n",
       "      <td>NaN</td>\n",
       "      <td>NaN</td>\n",
       "      <td>...</td>\n",
       "      <td>NaN</td>\n",
       "      <td>NaN</td>\n",
       "      <td>NaN</td>\n",
       "      <td>3096743</td>\n",
       "      <td>PASSENGER VEHICLE</td>\n",
       "      <td>SPORT UTILITY / STATION WAGON</td>\n",
       "      <td>NaN</td>\n",
       "      <td>NaN</td>\n",
       "      <td>NaN</td>\n",
       "      <td>POINT (1039162.336 185242.436)</td>\n",
       "    </tr>\n",
       "    <tr>\n",
       "      <th>261900</th>\n",
       "      <td>07/01/2012</td>\n",
       "      <td>8:27</td>\n",
       "      <td>NaN</td>\n",
       "      <td>NaN</td>\n",
       "      <td>40.708797</td>\n",
       "      <td>-73.727620</td>\n",
       "      <td>(40.7087971, -73.72762)</td>\n",
       "      <td>NaN</td>\n",
       "      <td>NaN</td>\n",
       "      <td>NaN</td>\n",
       "      <td>...</td>\n",
       "      <td>NaN</td>\n",
       "      <td>NaN</td>\n",
       "      <td>NaN</td>\n",
       "      <td>3016724</td>\n",
       "      <td>PASSENGER VEHICLE</td>\n",
       "      <td>NaN</td>\n",
       "      <td>NaN</td>\n",
       "      <td>NaN</td>\n",
       "      <td>NaN</td>\n",
       "      <td>POINT (1059765.664 197627.792)</td>\n",
       "    </tr>\n",
       "  </tbody>\n",
       "</table>\n",
       "<p>39595 rows × 30 columns</p>\n",
       "</div>"
      ],
      "text/plain": [
       "              DATE   TIME BOROUGH ZIP CODE   LATITUDE  LONGITUDE  \\\n",
       "0       07/30/2019   0:00   BRONX    10464  40.841100 -73.784960   \n",
       "1       07/30/2019   0:10  QUEENS    11423  40.710827 -73.770660   \n",
       "5       07/30/2019  10:50  QUEENS    11423  40.721060 -73.759450   \n",
       "6       07/30/2019  10:55  QUEENS    11434  40.676228 -73.761120   \n",
       "15      07/30/2019  13:05     NaN      NaN  40.588413 -74.166725   \n",
       "...            ...    ...     ...      ...        ...        ...   \n",
       "261853  07/01/2012  18:36  QUEENS    11420  40.672278 -73.804492   \n",
       "261856  07/01/2012  19:00  QUEENS    11434  40.659651 -73.773828   \n",
       "261888  07/01/2012   4:31     NaN      NaN  40.665277 -73.829544   \n",
       "261896  07/01/2012   6:30     NaN      NaN  40.674954 -73.802036   \n",
       "261900  07/01/2012   8:27     NaN      NaN  40.708797 -73.727620   \n",
       "\n",
       "                         LOCATION                ON STREET         CROSS STRE  \\\n",
       "0            (40.8411, -73.78496)                      NaN                NaN   \n",
       "1          (40.710827, -73.77066)           JAMAICA AVENUE         188 STREET   \n",
       "5           (40.72106, -73.75945)  FRANCIS LEWIS BOULEVARD    HILLSIDE AVENUE   \n",
       "6          (40.676228, -73.76112)          CRANDALL AVENUE      CHENEY STREET   \n",
       "15        (40.588413, -74.166725)                      NaN                NaN   \n",
       "...                           ...                      ...                ...   \n",
       "261853  (40.6722782, -73.8044924)            SUTTER AVENUE         134 STREET   \n",
       "261856  (40.6596509, -73.7738282)       ROCKAWAY BOULEVARD  FARMERS BOULEVARD   \n",
       "261888  (40.6652772, -73.8295439)                      NaN                NaN   \n",
       "261896  (40.6749541, -73.8020355)                      NaN                NaN   \n",
       "261900    (40.7087971, -73.72762)                      NaN                NaN   \n",
       "\n",
       "                          OFF STREET  ...   CONTRIBU_2  CONTRIBU_3  \\\n",
       "0             121       PILOT STREET  ...  Unspecified         NaN   \n",
       "1                                NaN  ...          NaN         NaN   \n",
       "5                                NaN  ...          NaN         NaN   \n",
       "6                                NaN  ...          NaN         NaN   \n",
       "15      26        RICHMOND HILL ROAD  ...          NaN         NaN   \n",
       "...                              ...  ...          ...         ...   \n",
       "261853                           NaN  ...          NaN         NaN   \n",
       "261856                           NaN  ...          NaN         NaN   \n",
       "261888                           NaN  ...          NaN         NaN   \n",
       "261896                           NaN  ...          NaN         NaN   \n",
       "261900                           NaN  ...          NaN         NaN   \n",
       "\n",
       "        CONTRIBU_4  UNIQUE KEY                           VEHICLE TY  \\\n",
       "0              NaN     4180045                                Sedan   \n",
       "1              NaN     4180007                                Sedan   \n",
       "5              NaN     4179812                                Sedan   \n",
       "6              NaN     4180464  Station Wagon/Sport Utility Vehicle   \n",
       "15             NaN     4180091  Station Wagon/Sport Utility Vehicle   \n",
       "...            ...         ...                                  ...   \n",
       "261853         NaN      227949                    PASSENGER VEHICLE   \n",
       "261856         NaN      219402                    PASSENGER VEHICLE   \n",
       "261888         NaN     3023332                    PASSENGER VEHICLE   \n",
       "261896         NaN     3096743                    PASSENGER VEHICLE   \n",
       "261900         NaN     3016724                    PASSENGER VEHICLE   \n",
       "\n",
       "                                 VEHICLE _1  \\\n",
       "0       Station Wagon/Sport Utility Vehicle   \n",
       "1                                     Sedan   \n",
       "5                                 Box Truck   \n",
       "6       Station Wagon/Sport Utility Vehicle   \n",
       "15                                Box Truck   \n",
       "...                                     ...   \n",
       "261853                    PASSENGER VEHICLE   \n",
       "261856                    PASSENGER VEHICLE   \n",
       "261888                                  NaN   \n",
       "261896        SPORT UTILITY / STATION WAGON   \n",
       "261900                                  NaN   \n",
       "\n",
       "                                 VEHICLE _2  VEHICLE _3 VEHICLE _4  \\\n",
       "0       Station Wagon/Sport Utility Vehicle         NaN        NaN   \n",
       "1                                       NaN         NaN        NaN   \n",
       "5                                       NaN         NaN        NaN   \n",
       "6                                       NaN         NaN        NaN   \n",
       "15                                      NaN         NaN        NaN   \n",
       "...                                     ...         ...        ...   \n",
       "261853                                  NaN         NaN        NaN   \n",
       "261856                                  NaN         NaN        NaN   \n",
       "261888                                  NaN         NaN        NaN   \n",
       "261896                                  NaN         NaN        NaN   \n",
       "261900                                  NaN         NaN        NaN   \n",
       "\n",
       "                              geometry  \n",
       "0       POINT (1043750.211 245785.815)  \n",
       "1       POINT (1047831.185 198333.171)  \n",
       "5       POINT (1050928.749 202069.687)  \n",
       "6       POINT (1050510.380 185734.852)  \n",
       "15       POINT (937943.004 153695.210)  \n",
       "...                                ...  \n",
       "261853  POINT (1038483.006 184266.001)  \n",
       "261856  POINT (1047000.990 179686.009)  \n",
       "261888  POINT (1031538.795 181700.828)  \n",
       "261896  POINT (1039162.336 185242.436)  \n",
       "261900  POINT (1059765.664 197627.792)  \n",
       "\n",
       "[39595 rows x 30 columns]"
      ]
     },
     "execution_count": 14,
     "metadata": {},
     "output_type": "execute_result"
    }
   ],
   "source": [
    "outside_range"
   ]
  },
  {
   "cell_type": "code",
   "execution_count": 15,
   "id": "a444b50a",
   "metadata": {
    "execution": {
     "iopub.execute_input": "2023-10-12T21:28:39.696470Z",
     "iopub.status.busy": "2023-10-12T21:28:39.695862Z",
     "iopub.status.idle": "2023-10-12T21:29:08.117674Z",
     "shell.execute_reply": "2023-10-12T21:29:08.116680Z"
    },
    "papermill": {
     "duration": 28.433639,
     "end_time": "2023-10-12T21:29:08.119804",
     "exception": false,
     "start_time": "2023-10-12T21:28:39.686165",
     "status": "completed"
    },
    "tags": []
   },
   "outputs": [
    {
     "data": {
      "application/javascript": [
       "parent.postMessage({\"jupyterEvent\": \"custom.exercise_interaction\", \"data\": {\"outcomeType\": 1, \"valueTowardsCompletion\": 0.16666666666666666, \"interactionType\": 1, \"questionType\": 2, \"questionId\": \"5_Q5\", \"learnToolsVersion\": \"0.3.4\", \"failureMessage\": \"\", \"exceptionClass\": \"\", \"trace\": \"\"}}, \"*\")"
      ],
      "text/plain": [
       "<IPython.core.display.Javascript object>"
      ]
     },
     "metadata": {},
     "output_type": "display_data"
    },
    {
     "data": {
      "text/markdown": [
       "<span style=\"color:#33cc33\">Correct</span>"
      ],
      "text/plain": [
       "Correct"
      ]
     },
     "metadata": {},
     "output_type": "display_data"
    }
   ],
   "source": [
    "# Your code here\n",
    "recommendations = outside_range.apply(lambda x: best_hospital(x['geometry']), axis=1)\n",
    "recommendations = recommendations.value_counts()\n",
    "recommendations = recommendations.reset_index()\n",
    "highest_demand = recommendations.iloc[0,0]\n",
    "\n",
    "# Check your answer\n",
    "q_5.check()"
   ]
  },
  {
   "cell_type": "code",
   "execution_count": 16,
   "id": "4cab7d87",
   "metadata": {
    "execution": {
     "iopub.execute_input": "2023-10-12T21:29:08.137857Z",
     "iopub.status.busy": "2023-10-12T21:29:08.137484Z",
     "iopub.status.idle": "2023-10-12T21:29:08.141535Z",
     "shell.execute_reply": "2023-10-12T21:29:08.140570Z"
    },
    "papermill": {
     "duration": 0.015225,
     "end_time": "2023-10-12T21:29:08.143466",
     "exception": false,
     "start_time": "2023-10-12T21:29:08.128241",
     "status": "completed"
    },
    "tags": []
   },
   "outputs": [],
   "source": [
    "# Lines below will give you a hint or solution code\n",
    "#q_5.hint()\n",
    "#q_5.solution()"
   ]
  },
  {
   "cell_type": "markdown",
   "id": "16d3da79",
   "metadata": {
    "papermill": {
     "duration": 0.007768,
     "end_time": "2023-10-12T21:29:08.159505",
     "exception": false,
     "start_time": "2023-10-12T21:29:08.151737",
     "status": "completed"
    },
    "tags": []
   },
   "source": [
    "### 6) Where should the city construct new hospitals?\n",
    "\n",
    "Run the next code cell (without changes) to visualize hospital locations, in addition to collisions that occurred more than 10 kilometers away from the closest hospital. "
   ]
  },
  {
   "cell_type": "code",
   "execution_count": 17,
   "id": "eab5c2aa",
   "metadata": {
    "execution": {
     "iopub.execute_input": "2023-10-12T21:29:08.179054Z",
     "iopub.status.busy": "2023-10-12T21:29:08.178447Z",
     "iopub.status.idle": "2023-10-12T21:29:08.700309Z",
     "shell.execute_reply": "2023-10-12T21:29:08.699049Z"
    },
    "papermill": {
     "duration": 0.533424,
     "end_time": "2023-10-12T21:29:08.702419",
     "exception": false,
     "start_time": "2023-10-12T21:29:08.168995",
     "status": "completed"
    },
    "scrolled": true,
    "tags": []
   },
   "outputs": [
    {
     "data": {
      "text/html": [
       "\n",
       "        <iframe\n",
       "            width=\"100%\"\n",
       "            height=\"500px\"\n",
       "            src=\"m_6.html\"\n",
       "            frameborder=\"0\"\n",
       "            allowfullscreen\n",
       "            \n",
       "        ></iframe>\n",
       "        "
      ],
      "text/plain": [
       "<IPython.lib.display.IFrame at 0x7ca2b51bf8b0>"
      ]
     },
     "execution_count": 17,
     "metadata": {},
     "output_type": "execute_result"
    }
   ],
   "source": [
    "m_6 = folium.Map(location=[40.7, -74], zoom_start=11) \n",
    "\n",
    "coverage = gpd.GeoDataFrame(geometry=hospitals.geometry).buffer(10000)\n",
    "folium.GeoJson(coverage.geometry.to_crs(epsg=4326)).add_to(m_6)\n",
    "HeatMap(data=outside_range[['LATITUDE', 'LONGITUDE']], radius=9).add_to(m_6)\n",
    "folium.LatLngPopup().add_to(m_6)\n",
    "\n",
    "embed_map(m_6, 'm_6.html')"
   ]
  },
  {
   "cell_type": "markdown",
   "id": "8130ab3c",
   "metadata": {
    "papermill": {
     "duration": 0.008145,
     "end_time": "2023-10-12T21:29:08.719244",
     "exception": false,
     "start_time": "2023-10-12T21:29:08.711099",
     "status": "completed"
    },
    "tags": []
   },
   "source": [
    "Click anywhere on the map to see a pop-up with the corresponding location in latitude and longitude.\n",
    "\n",
    "The city of New York reaches out to you for help with deciding locations for two brand new hospitals.  They specifically want your help with identifying locations to bring the calculated percentage from step **3)** to less than ten percent.  Using the map (and without worrying about zoning laws or what potential buildings would have to be removed in order to build the hospitals), can you identify two locations that would help the city accomplish this goal?  \n",
    "\n",
    "Put the proposed latitude and longitude for hospital 1 in `lat_1` and `long_1`, respectively.  (Likewise for hospital 2.)\n",
    "\n",
    "Then, run the rest of the cell as-is to see the effect of the new hospitals.  Your answer will be marked correct, if the two new hospitals bring the percentage to less than ten percent."
   ]
  },
  {
   "cell_type": "code",
   "execution_count": 18,
   "id": "ed0e09e9",
   "metadata": {
    "execution": {
     "iopub.execute_input": "2023-10-12T21:29:08.738448Z",
     "iopub.status.busy": "2023-10-12T21:29:08.737497Z",
     "iopub.status.idle": "2023-10-12T21:29:08.749425Z",
     "shell.execute_reply": "2023-10-12T21:29:08.748791Z"
    },
    "papermill": {
     "duration": 0.023324,
     "end_time": "2023-10-12T21:29:08.751039",
     "exception": false,
     "start_time": "2023-10-12T21:29:08.727715",
     "status": "completed"
    },
    "tags": []
   },
   "outputs": [
    {
     "data": {
      "application/javascript": [
       "parent.postMessage({\"jupyterEvent\": \"custom.exercise_interaction\", \"data\": {\"interactionType\": 2, \"questionType\": 2, \"questionId\": \"6_Q6\", \"learnToolsVersion\": \"0.3.4\", \"valueTowardsCompletion\": 0.0, \"failureMessage\": \"\", \"exceptionClass\": \"\", \"trace\": \"\", \"outcomeType\": 4}}, \"*\")"
      ],
      "text/plain": [
       "<IPython.core.display.Javascript object>"
      ]
     },
     "metadata": {},
     "output_type": "display_data"
    },
    {
     "data": {
      "text/markdown": [
       "<span style=\"color:#3366cc\">Hint:</span> Fill in locations corresponding to two relatively warmer areas of the heatmap."
      ],
      "text/plain": [
       "Hint: Fill in locations corresponding to two relatively warmer areas of the heatmap."
      ]
     },
     "metadata": {},
     "output_type": "display_data"
    }
   ],
   "source": [
    "# Your answer here: proposed location of hospital 1\n",
    "lat_1 = ____\n",
    "long_1 = ____\n",
    "\n",
    "# Your answer here: proposed location of hospital 2\n",
    "lat_2 = ____\n",
    "long_2 = ____\n",
    "\n",
    "\n",
    "# Do not modify the code below this line\n",
    "try:\n",
    "    new_df = pd.DataFrame(\n",
    "        {'Latitude': [lat_1, lat_2],\n",
    "         'Longitude': [long_1, long_2]})\n",
    "    new_gdf = gpd.GeoDataFrame(new_df, geometry=gpd.points_from_xy(new_df.Longitude, new_df.Latitude))\n",
    "    new_gdf.crs = {'init' :'epsg:4326'}\n",
    "    new_gdf = new_gdf.to_crs(epsg=2263)\n",
    "    # get new percentage\n",
    "    new_coverage = gpd.GeoDataFrame(geometry=new_gdf.geometry).buffer(10000)\n",
    "    new_my_union = new_coverage.geometry.unary_union\n",
    "    new_outside_range = outside_range.loc[~outside_range[\"geometry\"].apply(lambda x: new_my_union.contains(x))]\n",
    "    new_percentage = round(100*len(new_outside_range)/len(collisions), 2)\n",
    "    print(\"(NEW) Percentage of collisions more than 10 km away from the closest hospital: {}%\".format(new_percentage))\n",
    "    # Did you help the city to meet its goal?\n",
    "    q_6.check()\n",
    "    # make the map\n",
    "    m = folium.Map(location=[40.7, -74], zoom_start=11) \n",
    "    folium.GeoJson(coverage.geometry.to_crs(epsg=4326)).add_to(m)\n",
    "    folium.GeoJson(new_coverage.geometry.to_crs(epsg=4326)).add_to(m)\n",
    "    for idx, row in new_gdf.iterrows():\n",
    "        Marker([row['Latitude'], row['Longitude']]).add_to(m)\n",
    "    HeatMap(data=new_outside_range[['LATITUDE', 'LONGITUDE']], radius=9).add_to(m)\n",
    "    folium.LatLngPopup().add_to(m)\n",
    "    display(embed_map(m, 'q_6.html'))\n",
    "except:\n",
    "    q_6.hint()"
   ]
  },
  {
   "cell_type": "code",
   "execution_count": 19,
   "id": "6e0d91db",
   "metadata": {
    "execution": {
     "iopub.execute_input": "2023-10-12T21:29:08.770076Z",
     "iopub.status.busy": "2023-10-12T21:29:08.769410Z",
     "iopub.status.idle": "2023-10-12T21:29:08.772928Z",
     "shell.execute_reply": "2023-10-12T21:29:08.772204Z"
    },
    "papermill": {
     "duration": 0.014967,
     "end_time": "2023-10-12T21:29:08.774718",
     "exception": false,
     "start_time": "2023-10-12T21:29:08.759751",
     "status": "completed"
    },
    "tags": []
   },
   "outputs": [],
   "source": [
    "# Uncomment to see one potential answer \n",
    "#q_6.solution()"
   ]
  },
  {
   "cell_type": "markdown",
   "id": "21a388a7",
   "metadata": {
    "papermill": {
     "duration": 0.008327,
     "end_time": "2023-10-12T21:29:08.791842",
     "exception": false,
     "start_time": "2023-10-12T21:29:08.783515",
     "status": "completed"
    },
    "tags": []
   },
   "source": [
    "# Congratulations!\n",
    "\n",
    "You have just completed the Geospatial Analysis micro-course!  Great job!"
   ]
  },
  {
   "cell_type": "markdown",
   "id": "3fd8cc62",
   "metadata": {
    "papermill": {
     "duration": 0.008366,
     "end_time": "2023-10-12T21:29:08.808829",
     "exception": false,
     "start_time": "2023-10-12T21:29:08.800463",
     "status": "completed"
    },
    "tags": []
   },
   "source": [
    "---\n",
    "\n",
    "\n",
    "\n",
    "\n",
    "*Have questions or comments? Visit the [course discussion forum](https://www.kaggle.com/learn/geospatial-analysis/discussion) to chat with other learners.*"
   ]
  }
 ],
 "metadata": {
  "kernelspec": {
   "display_name": "Python 3",
   "language": "python",
   "name": "python3"
  },
  "language_info": {
   "codemirror_mode": {
    "name": "ipython",
    "version": 3
   },
   "file_extension": ".py",
   "mimetype": "text/x-python",
   "name": "python",
   "nbconvert_exporter": "python",
   "pygments_lexer": "ipython3",
   "version": "3.10.12"
  },
  "papermill": {
   "default_parameters": {},
   "duration": 345.535127,
   "end_time": "2023-10-12T21:29:11.537221",
   "environment_variables": {},
   "exception": null,
   "input_path": "__notebook__.ipynb",
   "output_path": "__notebook__.ipynb",
   "parameters": {},
   "start_time": "2023-10-12T21:23:26.002094",
   "version": "2.4.0"
  }
 },
 "nbformat": 4,
 "nbformat_minor": 5
}
